{
 "cells": [
  {
   "cell_type": "code",
   "execution_count": 46,
   "id": "d89b8195",
   "metadata": {},
   "outputs": [],
   "source": [
    "import pandas as pd\n",
    "import numpy as np\n",
    "import seaborn as sns\n",
    "import matplotlib.pyplot as plt\n",
    "\n",
    "from sklearn.neighbors import KNeighborsClassifier\n",
    "from sklearn.metrics import accuracy_score\n",
    "\n",
    "from sklearn.compose import ColumnTransformer\n",
    "\n",
    "from sklearn.preprocessing import OneHotEncoder, LabelEncoder, MinMaxScaler"
   ]
  },
  {
   "cell_type": "code",
   "execution_count": 47,
   "id": "32de4ba6",
   "metadata": {},
   "outputs": [],
   "source": [
    "greater50k = !cat income.train.txt.5k | grep '>50K' -c"
   ]
  },
  {
   "cell_type": "code",
   "execution_count": 48,
   "id": "ac94829e",
   "metadata": {},
   "outputs": [
    {
     "data": {
      "text/plain": [
       "['1251']"
      ]
     },
     "execution_count": 48,
     "metadata": {},
     "output_type": "execute_result"
    }
   ],
   "source": [
    "greater50k"
   ]
  },
  {
   "cell_type": "code",
   "execution_count": 49,
   "id": "6d337bd4",
   "metadata": {},
   "outputs": [],
   "source": [
    "total = !tail -n +2 income.train.txt.5k | wc -l"
   ]
  },
  {
   "cell_type": "code",
   "execution_count": 50,
   "id": "21291b98",
   "metadata": {},
   "outputs": [
    {
     "data": {
      "text/plain": [
       "['    4999']"
      ]
     },
     "execution_count": 50,
     "metadata": {},
     "output_type": "execute_result"
    }
   ],
   "source": [
    "total"
   ]
  },
  {
   "cell_type": "code",
   "execution_count": 51,
   "id": "1e315006",
   "metadata": {},
   "outputs": [
    {
     "name": "stdout",
     "output_type": "stream",
     "text": [
      "Percentage for train set: 25.0250050010002\n"
     ]
    }
   ],
   "source": [
    "greater50k_int = int(greater50k[0])\n",
    "total_int = int(total[0])\n",
    "\n",
    "percentage = (greater50k_int/total_int)*100\n",
    "\n",
    "print(f'Percentage for train set: {percentage}')"
   ]
  },
  {
   "cell_type": "code",
   "execution_count": 52,
   "id": "002d9545",
   "metadata": {},
   "outputs": [
    {
     "data": {
      "text/plain": [
       "['236']"
      ]
     },
     "execution_count": 52,
     "metadata": {},
     "output_type": "execute_result"
    }
   ],
   "source": [
    "greater50k = !cat income.dev.txt | grep '>50K' -c\n",
    "greater50k"
   ]
  },
  {
   "cell_type": "code",
   "execution_count": 53,
   "id": "638c844f",
   "metadata": {},
   "outputs": [
    {
     "data": {
      "text/plain": [
       "['     999']"
      ]
     },
     "execution_count": 53,
     "metadata": {},
     "output_type": "execute_result"
    }
   ],
   "source": [
    "total = !tail -n +2 income.dev.txt | wc -l\n",
    "total"
   ]
  },
  {
   "cell_type": "code",
   "execution_count": 54,
   "id": "f64ac961",
   "metadata": {},
   "outputs": [
    {
     "name": "stdout",
     "output_type": "stream",
     "text": [
      "Percentage for train set: 23.623623623623622\n"
     ]
    }
   ],
   "source": [
    "greater50k_int = int(greater50k[0])\n",
    "total_int = int(total[0])\n",
    "\n",
    "percentage = (greater50k_int/total_int)*100\n",
    "\n",
    "print(f'Percentage for train set: {percentage}')"
   ]
  },
  {
   "cell_type": "code",
   "execution_count": 55,
   "id": "f9b7e9c1",
   "metadata": {},
   "outputs": [
    {
     "data": {
      "text/plain": [
       "'From both percentages, it does not make sense that less than 26% of workers in the US earns >50k.'"
      ]
     },
     "execution_count": 55,
     "metadata": {},
     "output_type": "execute_result"
    }
   ],
   "source": [
    "\"From both percentages, it does not make sense that less than 26% of workers in the US earns >50k.\""
   ]
  },
  {
   "cell_type": "code",
   "execution_count": 56,
   "id": "ed270ba9",
   "metadata": {},
   "outputs": [],
   "source": [
    "youngest_age = !cat income.train.txt.5k | cut -f 1 -d ','| sort -nk1| head -1\n",
    "maximum_age = !cat income.train.txt.5k | cut -f 1 -d ',' | sort | tail -1"
   ]
  },
  {
   "cell_type": "code",
   "execution_count": 57,
   "id": "5a199443",
   "metadata": {},
   "outputs": [
    {
     "name": "stdout",
     "output_type": "stream",
     "text": [
      "Youngest age: ['17']\n",
      "Oldest age: ['90']\n"
     ]
    }
   ],
   "source": [
    "print(f'Youngest age: {youngest_age}')\n",
    "print(f'Oldest age: {maximum_age}')"
   ]
  },
  {
   "cell_type": "code",
   "execution_count": 58,
   "id": "27150b7e",
   "metadata": {},
   "outputs": [],
   "source": [
    "least_hours = !cat income.train.txt.5k | cut -f 8 -d ','| sort -nk1| head -1\n",
    "most_hours = !cat income.train.txt.5k | cut -f 8 -d ',' | sort | tail -1"
   ]
  },
  {
   "cell_type": "code",
   "execution_count": 59,
   "id": "207b4924",
   "metadata": {
    "scrolled": true
   },
   "outputs": [
    {
     "name": "stdout",
     "output_type": "stream",
     "text": [
      "Least hours: [' 1']hour(s) per week\n",
      "Most hours: [' 99']hour(s) per week\n"
     ]
    }
   ],
   "source": [
    "print(f'Least hours: {least_hours}hour(s) per week')\n",
    "print(f'Most hours: {most_hours}hour(s) per week')"
   ]
  },
  {
   "cell_type": "code",
   "execution_count": 60,
   "id": "d476e7e7",
   "metadata": {},
   "outputs": [
    {
     "data": {
      "text/plain": [
       "'We do not want to binarize the two numerical fields, age and hours, because they contain ordinal data with meaningful magnitudes and relationships, and binarizing them would result in a loss of this valuable information and introduce unnecessary dimensionality.'"
      ]
     },
     "execution_count": 60,
     "metadata": {},
     "output_type": "execute_result"
    }
   ],
   "source": [
    "\"We do not want to binarize the two numerical fields, age and hours, because they contain ordinal data with meaningful magnitudes and relationships, and binarizing them would result in a loss of this valuable information and introduce unnecessary dimensionality.\""
   ]
  },
  {
   "cell_type": "code",
   "execution_count": 61,
   "id": "67d6b64e",
   "metadata": {},
   "outputs": [
    {
     "data": {
      "text/plain": [
       "'We should scale the numerical fields so that their maximum Manhattan distance matches that of the categorical fields. For instance, multiplying the normalized age by 2 (after dividing by 100) would make its range between 0 and 2, aligning its maximum Manhattan distance with the categorical fields.'"
      ]
     },
     "execution_count": 61,
     "metadata": {},
     "output_type": "execute_result"
    }
   ],
   "source": [
    "'We should scale the numerical fields so that their maximum Manhattan distance matches that of the categorical fields. For instance, multiplying the normalized age by 2 (after dividing by 100) would make its range between 0 and 2, aligning its maximum Manhattan distance with the categorical fields.'"
   ]
  },
  {
   "cell_type": "markdown",
   "id": "b0f436c8",
   "metadata": {},
   "source": [
    "For machine algorithms sensitive to distance metrics such as k-NN, it’s important to preprocess data more intelligently.\n",
    "In this case, I treated numerical (age and hours-per-week) and categorical fields differently.\n",
    "For categorical data, I used OneHotEncoder for binarization numerical data remained in their original format."
   ]
  },
  {
   "cell_type": "code",
   "execution_count": 62,
   "id": "5ff72f1e",
   "metadata": {},
   "outputs": [
    {
     "name": "stderr",
     "output_type": "stream",
     "text": [
      "/var/folders/0w/8f1jvhb168s59xf27pmhg6yw0000gp/T/ipykernel_7292/2864124850.py:2: ParserWarning: Falling back to the 'python' engine because the 'c' engine does not support regex separators (separators > 1 char and different from '\\s+' are interpreted as regex); you can avoid this warning by specifying engine='python'.\n",
      "  train_data = pd.read_csv(\"income.train.txt.5k\", sep=\", \", names=names)\n",
      "/var/folders/0w/8f1jvhb168s59xf27pmhg6yw0000gp/T/ipykernel_7292/2864124850.py:3: ParserWarning: Falling back to the 'python' engine because the 'c' engine does not support regex separators (separators > 1 char and different from '\\s+' are interpreted as regex); you can avoid this warning by specifying engine='python'.\n",
      "  dev_data = pd.read_csv(\"income.dev.txt\", sep=\", \", names=names)\n",
      "/var/folders/0w/8f1jvhb168s59xf27pmhg6yw0000gp/T/ipykernel_7292/2864124850.py:4: ParserWarning: Falling back to the 'python' engine because the 'c' engine does not support regex separators (separators > 1 char and different from '\\s+' are interpreted as regex); you can avoid this warning by specifying engine='python'.\n",
      "  blind_data = pd.read_csv(\"income.test.blind\", sep=\", \", names=names)\n"
     ]
    }
   ],
   "source": [
    "names = [\"age\", \"sector\", \"edu\", \"marriage\", \"occupation\", \"race\", \"sex\", \"hours\", \"country\", \"target\"]\n",
    "train_data = pd.read_csv(\"income.train.txt.5k\", sep=\", \", names=names) \n",
    "dev_data = pd.read_csv(\"income.dev.txt\", sep=\", \", names=names)\n",
    "blind_data = pd.read_csv(\"income.test.blind\", sep=\", \", names=names)"
   ]
  },
  {
   "cell_type": "markdown",
   "id": "600ea021",
   "metadata": {},
   "source": [
    "We should scale the numerical fields so that their maximum Manhattan distance matches that of the categorical fields. For instance, multiplying the normalized age by 2 (after dividing by 100) would make its range between 0 and 2, aligning its maximum Manhattan distance with the categorical fields."
   ]
  },
  {
   "cell_type": "markdown",
   "id": "710f9bef",
   "metadata": {},
   "source": [
    "MinMaxScaler(feature_range=(0, 2)) transforms each numerical feature (independently) to a given range, in this case, between 0 and 2, aligning its maximum Manhattan distance with the categorical fields (maximum distance between two categorical fields is 2)."
   ]
  },
  {
   "cell_type": "code",
   "execution_count": 63,
   "id": "e069f125",
   "metadata": {},
   "outputs": [],
   "source": [
    "train_y = train_data[['target']]\n",
    "train_X = train_data[['age', 'hours', 'sector', 'edu', 'marriage', 'occupation', 'race', 'sex', 'country']]\n",
    "\n",
    "dev_y = dev_data[['target']]\n",
    "dev_X = dev_data[['age', 'hours', 'sector', 'edu', 'marriage', 'occupation', 'race', 'sex', 'country']]"
   ]
  },
  {
   "cell_type": "code",
   "execution_count": 64,
   "id": "abcd0581",
   "metadata": {},
   "outputs": [],
   "source": [
    "blind_X = blind_data[['age', 'hours', 'sector', 'edu', 'marriage', 'occupation', 'race', 'sex', 'country']]"
   ]
  },
  {
   "cell_type": "code",
   "execution_count": 65,
   "id": "625cb3c2",
   "metadata": {},
   "outputs": [
    {
     "name": "stderr",
     "output_type": "stream",
     "text": [
      "/Users/chikezic/miniconda3/lib/python3.9/site-packages/sklearn/preprocessing/_label.py:114: DataConversionWarning: A column-vector y was passed when a 1d array was expected. Please change the shape of y to (n_samples, ), for example using ravel().\n",
      "  y = column_or_1d(y, warn=True)\n",
      "/Users/chikezic/miniconda3/lib/python3.9/site-packages/sklearn/preprocessing/_label.py:132: DataConversionWarning: A column-vector y was passed when a 1d array was expected. Please change the shape of y to (n_samples, ), for example using ravel().\n",
      "  y = column_or_1d(y, dtype=self.classes_.dtype, warn=True)\n"
     ]
    }
   ],
   "source": [
    "le = LabelEncoder()\n",
    "train_y = le.fit_transform(train_y)\n",
    "dev_y = le.transform(dev_y)"
   ]
  },
  {
   "cell_type": "code",
   "execution_count": 66,
   "id": "17007634",
   "metadata": {},
   "outputs": [],
   "source": [
    "num_processor = MinMaxScaler(feature_range=(0, 2))\n",
    "cat_processor = OneHotEncoder(sparse=False, handle_unknown='ignore')"
   ]
  },
  {
   "cell_type": "code",
   "execution_count": 67,
   "id": "85f2cd38",
   "metadata": {},
   "outputs": [],
   "source": [
    "preprocessor = ColumnTransformer([\n",
    "    ('num', num_processor, ['age', 'hours']),\n",
    "    ('cat', cat_processor, ['sector', 'edu', 'marriage', 'occupation', 'race', 'sex', 'country'])\n",
    "])"
   ]
  },
  {
   "cell_type": "code",
   "execution_count": 68,
   "id": "faf15eb8",
   "metadata": {},
   "outputs": [
    {
     "name": "stderr",
     "output_type": "stream",
     "text": [
      "/Users/chikezic/miniconda3/lib/python3.9/site-packages/sklearn/preprocessing/_encoders.py:975: FutureWarning: `sparse` was renamed to `sparse_output` in version 1.2 and will be removed in 1.4. `sparse_output` is ignored unless you leave `sparse` to its default value.\n",
      "  warnings.warn(\n"
     ]
    }
   ],
   "source": [
    "preprocessor.fit(train_X)\n",
    "processed_train_X = preprocessor.transform(train_X)"
   ]
  },
  {
   "cell_type": "code",
   "execution_count": 69,
   "id": "2d1bbe73",
   "metadata": {},
   "outputs": [
    {
     "data": {
      "text/plain": [
       "92"
      ]
     },
     "execution_count": 69,
     "metadata": {},
     "output_type": "execute_result"
    }
   ],
   "source": [
    "len(preprocessor.get_feature_names_out())"
   ]
  },
  {
   "cell_type": "code",
   "execution_count": 70,
   "id": "62776eee",
   "metadata": {
    "scrolled": true
   },
   "outputs": [],
   "source": [
    "processed_dev_X = preprocessor.transform(dev_X)"
   ]
  },
  {
   "cell_type": "code",
   "execution_count": 71,
   "id": "fa8963fa",
   "metadata": {},
   "outputs": [],
   "source": [
    "import numpy as np\n",
    "import time\n",
    "from sklearn.neighbors import KNeighborsClassifier\n",
    "from sklearn.metrics import accuracy_score\n",
    "\n",
    "\n",
    "def evaluate_knn(train_X, train_y, dev_X, dev_y):\n",
    "    ks = list(range(1, 100, 2))\n",
    "    error_rates_train = []\n",
    "    error_rates_dev = []\n",
    "    positive_rates_train = []\n",
    "    positive_rates_dev = []\n",
    "    runtimes = []\n",
    "\n",
    "    best_error_rate = np.inf\n",
    "    best_k = None\n",
    "\n",
    "    for k in ks:\n",
    "        knn = KNeighborsClassifier(n_neighbors=k)\n",
    "        \n",
    "        start_time = time.time()\n",
    "        knn.fit(train_X, train_y)\n",
    "        runtimes.append(time.time() - start_time)\n",
    "        \n",
    "        preds_train = knn.predict(train_X)\n",
    "        preds_dev = knn.predict(dev_X)\n",
    "\n",
    "        error_rate_train = 1 - accuracy_score(train_y, preds_train)\n",
    "        error_rate_dev = 1 - accuracy_score(dev_y, preds_dev)\n",
    "        \n",
    "        if k == 99:\n",
    "            print(f'Time for k=99: {time.time() - start_time}seconds')\n",
    "            \n",
    "        if k == 1:\n",
    "            print(f'Error when k is 1: {error_rate_train:.2f}')\n",
    "            \n",
    "        if error_rate_dev < best_error_rate:\n",
    "            best_error_rate = error_rate_dev\n",
    "            best_k = k\n",
    "\n",
    "        positive_rate_train = np.mean(preds_train)\n",
    "        positive_rate_dev = np.mean(preds_dev)\n",
    "\n",
    "        error_rates_train.append(error_rate_train)\n",
    "        error_rates_dev.append(error_rate_dev)\n",
    "        positive_rates_train.append(positive_rate_train)\n",
    "        positive_rates_dev.append(positive_rate_dev)\n",
    "\n",
    "    print(f\"Best error rate on dev set: {best_error_rate:.2f}({best_error_rate*100:.2f}%)\")\n",
    "    print(f\"Value of k that achieves the best error rate: {best_k}\")\n",
    "    \n",
    "    return ks, error_rates_train, error_rates_dev, positive_rates_train, positive_rates_dev, runtimes, best_k"
   ]
  },
  {
   "cell_type": "code",
   "execution_count": 72,
   "id": "7699eb08",
   "metadata": {},
   "outputs": [
    {
     "name": "stdout",
     "output_type": "stream",
     "text": [
      "Error when k is 1: 0.02\n",
      "Time for k=99: 0.3080558776855469seconds\n",
      "Best error rate on dev set: 0.14(14.30%)\n",
      "Value of k that achieves the best error rate: 41\n"
     ]
    }
   ],
   "source": [
    "ks, error_rates_train, error_rates_dev, positive_rates_train, positive_rates_dev, runtimes, best_k = evaluate_knn(processed_train_X, train_y, processed_dev_X, dev_y)"
   ]
  },
  {
   "cell_type": "code",
   "execution_count": 73,
   "id": "2b164eb2",
   "metadata": {
    "scrolled": false
   },
   "outputs": [
    {
     "data": {
      "image/png": "[encoded data removed]",
      "text/plain": [
       "<Figure size 640x480 with 1 Axes>"
      ]
     },
     "metadata": {},
     "output_type": "display_data"
    },
    {
     "data": {
      "image/png": "[encoded data removed]",
      "text/plain": [
       "<Figure size 640x480 with 1 Axes>"
      ]
     },
     "metadata": {},
     "output_type": "display_data"
    },
    {
     "data": {
      "image/png": "[encoded data removed]",
      "text/plain": [
       "<Figure size 640x480 with 1 Axes>"
      ]
     },
     "metadata": {},
     "output_type": "display_data"
    }
   ],
   "source": [
    "sns.lineplot(x=ks, y=error_rates_train, label=\"Train Error Rate\")\n",
    "sns.lineplot(x=ks, y=error_rates_dev, label=\"Dev Error Rate\")\n",
    "plt.xlabel(\"k\")\n",
    "plt.ylabel(\"Error Rate\")\n",
    "plt.legend()\n",
    "plt.show()\n",
    "\n",
    "sns.lineplot(x=ks, y=positive_rates_train, label=\"Train Positive Rate\")\n",
    "sns.lineplot(x=ks, y=positive_rates_dev, label=\"Dev Positive Rate\")\n",
    "plt.xlabel(\"k\")\n",
    "plt.ylabel(\"Positive Rate\")\n",
    "plt.legend()\n",
    "plt.show()\n",
    "\n",
    "sns.lineplot(x=ks, y=runtimes, label=\"Training Runtime\")\n",
    "plt.xlabel(\"k\")\n",
    "plt.ylabel(\"Runtime (seconds)\")\n",
    "plt.legend()\n",
    "plt.show()"
   ]
  },
  {
   "cell_type": "markdown",
   "id": "b4bb35e7",
   "metadata": {},
   "source": [
    "# Part 5"
   ]
  },
  {
   "cell_type": "code",
   "execution_count": 74,
   "id": "15c9ebff",
   "metadata": {
    "scrolled": false
   },
   "outputs": [],
   "source": [
    "processed_blind_X = preprocessor.transform(blind_X)"
   ]
  },
  {
   "cell_type": "code",
   "execution_count": 75,
   "id": "4d4bb170",
   "metadata": {},
   "outputs": [],
   "source": [
    "knn = KNeighborsClassifier(n_neighbors=best_k)\n",
    "\n",
    "knn.fit(processed_train_X, train_y)\n",
    "\n",
    "predictions_blind = knn.predict(processed_blind_X)"
   ]
  },
  {
   "cell_type": "code",
   "execution_count": 76,
   "id": "ae629294",
   "metadata": {},
   "outputs": [
    {
     "name": "stdout",
     "output_type": "stream",
     "text": [
      "['>50K' '<=50K' '<=50K' '>50K' '<=50K' '<=50K' '<=50K' '>50K' '>50K'\n",
      " '<=50K' '<=50K' '<=50K' '<=50K' '<=50K' '<=50K' '<=50K' '>50K' '<=50K'\n",
      " '>50K' '>50K' '<=50K' '<=50K' '<=50K' '<=50K' '<=50K' '>50K' '<=50K'\n",
      " '<=50K' '>50K' '<=50K' '>50K' '<=50K' '<=50K' '>50K' '<=50K' '<=50K'\n",
      " '<=50K' '<=50K' '>50K' '>50K' '<=50K' '<=50K' '<=50K' '>50K' '<=50K'\n",
      " '>50K' '<=50K' '>50K' '>50K' '<=50K' '<=50K' '<=50K' '>50K' '>50K'\n",
      " '<=50K' '>50K' '<=50K' '<=50K' '<=50K' '>50K' '<=50K' '>50K' '<=50K'\n",
      " '<=50K' '<=50K' '<=50K' '>50K' '<=50K' '>50K' '<=50K' '>50K' '<=50K'\n",
      " '<=50K' '<=50K' '<=50K' '<=50K' '<=50K' '<=50K' '<=50K' '<=50K' '<=50K'\n",
      " '<=50K' '<=50K' '<=50K' '<=50K' '<=50K' '<=50K' '>50K' '<=50K' '<=50K'\n",
      " '<=50K' '<=50K' '>50K' '<=50K' '<=50K' '<=50K' '>50K' '<=50K' '<=50K'\n",
      " '<=50K' '<=50K' '<=50K' '>50K' '<=50K' '<=50K' '<=50K' '<=50K' '>50K'\n",
      " '<=50K' '<=50K' '<=50K' '<=50K' '<=50K' '<=50K' '<=50K' '<=50K' '<=50K'\n",
      " '<=50K' '<=50K' '<=50K' '<=50K' '<=50K' '<=50K' '<=50K' '<=50K' '<=50K'\n",
      " '<=50K' '<=50K' '<=50K' '>50K' '<=50K' '<=50K' '<=50K' '<=50K' '<=50K'\n",
      " '<=50K' '<=50K' '<=50K' '<=50K' '<=50K' '<=50K' '>50K' '>50K' '<=50K'\n",
      " '<=50K' '<=50K' '>50K' '<=50K' '<=50K' '<=50K' '<=50K' '<=50K' '<=50K'\n",
      " '<=50K' '<=50K' '<=50K' '>50K' '>50K' '<=50K' '>50K' '<=50K' '<=50K'\n",
      " '<=50K' '<=50K' '<=50K' '<=50K' '>50K' '<=50K' '<=50K' '>50K' '>50K'\n",
      " '<=50K' '<=50K' '>50K' '>50K' '<=50K' '<=50K' '<=50K' '<=50K' '<=50K'\n",
      " '<=50K' '<=50K' '<=50K' '<=50K' '>50K' '>50K' '<=50K' '<=50K' '<=50K'\n",
      " '<=50K' '<=50K' '<=50K' '<=50K' '>50K' '<=50K' '<=50K' '<=50K' '<=50K'\n",
      " '<=50K' '<=50K' '<=50K' '<=50K' '<=50K' '<=50K' '>50K' '<=50K' '<=50K'\n",
      " '>50K' '<=50K' '<=50K' '<=50K' '<=50K' '<=50K' '<=50K' '<=50K' '<=50K'\n",
      " '<=50K' '>50K' '<=50K' '<=50K' '<=50K' '<=50K' '>50K' '<=50K' '<=50K'\n",
      " '<=50K' '<=50K' '>50K' '<=50K' '<=50K' '<=50K' '<=50K' '<=50K' '<=50K'\n",
      " '<=50K' '<=50K' '<=50K' '<=50K' '<=50K' '<=50K' '<=50K' '>50K' '<=50K'\n",
      " '<=50K' '<=50K' '>50K' '<=50K' '<=50K' '<=50K' '<=50K' '<=50K' '>50K'\n",
      " '<=50K' '<=50K' '<=50K' '<=50K' '<=50K' '>50K' '<=50K' '<=50K' '<=50K'\n",
      " '>50K' '<=50K' '<=50K' '<=50K' '<=50K' '<=50K' '<=50K' '<=50K' '<=50K'\n",
      " '<=50K' '<=50K' '>50K' '>50K' '<=50K' '>50K' '<=50K' '<=50K' '>50K'\n",
      " '<=50K' '<=50K' '>50K' '<=50K' '<=50K' '>50K' '>50K' '<=50K' '<=50K'\n",
      " '<=50K' '>50K' '<=50K' '<=50K' '<=50K' '>50K' '<=50K' '<=50K' '>50K'\n",
      " '<=50K' '>50K' '<=50K' '<=50K' '<=50K' '<=50K' '<=50K' '<=50K' '<=50K'\n",
      " '<=50K' '<=50K' '<=50K' '<=50K' '<=50K' '<=50K' '<=50K' '<=50K' '<=50K'\n",
      " '<=50K' '>50K' '>50K' '<=50K' '<=50K' '>50K' '<=50K' '>50K' '<=50K'\n",
      " '<=50K' '<=50K' '>50K' '<=50K' '<=50K' '<=50K' '<=50K' '<=50K' '<=50K'\n",
      " '>50K' '<=50K' '<=50K' '<=50K' '<=50K' '<=50K' '<=50K' '<=50K' '<=50K'\n",
      " '<=50K' '<=50K' '<=50K' '>50K' '>50K' '<=50K' '<=50K' '<=50K' '<=50K'\n",
      " '<=50K' '<=50K' '>50K' '>50K' '>50K' '<=50K' '<=50K' '>50K' '<=50K'\n",
      " '<=50K' '<=50K' '<=50K' '<=50K' '<=50K' '<=50K' '<=50K' '<=50K' '>50K'\n",
      " '<=50K' '<=50K' '<=50K' '<=50K' '<=50K' '<=50K' '<=50K' '<=50K' '<=50K'\n",
      " '<=50K' '<=50K' '<=50K' '<=50K' '<=50K' '<=50K' '<=50K' '<=50K' '<=50K'\n",
      " '<=50K' '<=50K' '<=50K' '<=50K' '<=50K' '<=50K' '<=50K' '<=50K' '<=50K'\n",
      " '>50K' '>50K' '<=50K' '<=50K' '<=50K' '<=50K' '>50K' '>50K' '>50K'\n",
      " '<=50K' '<=50K' '<=50K' '<=50K' '<=50K' '<=50K' '<=50K' '<=50K' '<=50K'\n",
      " '<=50K' '>50K' '<=50K' '<=50K' '>50K' '<=50K' '>50K' '<=50K' '<=50K'\n",
      " '<=50K' '<=50K' '<=50K' '<=50K' '>50K' '<=50K' '<=50K' '<=50K' '<=50K'\n",
      " '<=50K' '<=50K' '>50K' '<=50K' '<=50K' '<=50K' '>50K' '>50K' '>50K'\n",
      " '<=50K' '<=50K' '<=50K' '<=50K' '<=50K' '<=50K' '<=50K' '<=50K' '<=50K'\n",
      " '<=50K' '<=50K' '<=50K' '<=50K' '<=50K' '>50K' '>50K' '<=50K' '<=50K'\n",
      " '<=50K' '<=50K' '>50K' '<=50K' '<=50K' '>50K' '<=50K' '<=50K' '<=50K'\n",
      " '<=50K' '>50K' '<=50K' '<=50K' '<=50K' '<=50K' '>50K' '<=50K' '<=50K'\n",
      " '<=50K' '<=50K' '<=50K' '<=50K' '<=50K' '<=50K' '<=50K' '<=50K' '<=50K'\n",
      " '<=50K' '<=50K' '>50K' '<=50K' '>50K' '<=50K' '>50K' '<=50K' '<=50K'\n",
      " '<=50K' '<=50K' '<=50K' '>50K' '<=50K' '<=50K' '<=50K' '<=50K' '<=50K'\n",
      " '<=50K' '>50K' '<=50K' '>50K' '>50K' '<=50K' '<=50K' '<=50K' '<=50K'\n",
      " '<=50K' '<=50K' '<=50K' '>50K' '<=50K' '<=50K' '<=50K' '<=50K' '<=50K'\n",
      " '<=50K' '<=50K' '<=50K' '>50K' '<=50K' '<=50K' '<=50K' '<=50K' '<=50K'\n",
      " '<=50K' '<=50K' '<=50K' '<=50K' '<=50K' '>50K' '<=50K' '<=50K' '>50K'\n",
      " '<=50K' '<=50K' '>50K' '<=50K' '<=50K' '<=50K' '<=50K' '<=50K' '<=50K'\n",
      " '>50K' '>50K' '<=50K' '<=50K' '<=50K' '<=50K' '<=50K' '<=50K' '<=50K'\n",
      " '<=50K' '<=50K' '<=50K' '<=50K' '<=50K' '<=50K' '<=50K' '<=50K' '<=50K'\n",
      " '<=50K' '<=50K' '>50K' '<=50K' '<=50K' '>50K' '<=50K' '<=50K' '<=50K'\n",
      " '>50K' '<=50K' '<=50K' '<=50K' '<=50K' '>50K' '>50K' '<=50K' '<=50K'\n",
      " '<=50K' '<=50K' '<=50K' '<=50K' '<=50K' '<=50K' '>50K' '>50K' '<=50K'\n",
      " '<=50K' '<=50K' '<=50K' '<=50K' '<=50K' '<=50K' '<=50K' '<=50K' '>50K'\n",
      " '<=50K' '<=50K' '>50K' '>50K' '<=50K' '>50K' '>50K' '>50K' '<=50K'\n",
      " '<=50K' '>50K' '<=50K' '<=50K' '<=50K' '<=50K' '<=50K' '<=50K' '>50K'\n",
      " '<=50K' '>50K' '>50K' '<=50K' '<=50K' '>50K' '<=50K' '<=50K' '<=50K'\n",
      " '<=50K' '>50K' '<=50K' '<=50K' '<=50K' '<=50K' '<=50K' '<=50K' '>50K'\n",
      " '<=50K' '<=50K' '<=50K' '<=50K' '>50K' '<=50K' '>50K' '>50K' '<=50K'\n",
      " '<=50K' '<=50K' '<=50K' '<=50K' '<=50K' '<=50K' '<=50K' '<=50K' '<=50K'\n",
      " '<=50K' '<=50K' '<=50K' '<=50K' '<=50K' '<=50K' '<=50K' '>50K' '<=50K'\n",
      " '<=50K' '<=50K' '<=50K' '<=50K' '<=50K' '<=50K' '<=50K' '<=50K' '<=50K'\n",
      " '<=50K' '<=50K' '<=50K' '<=50K' '>50K' '<=50K' '>50K' '<=50K' '<=50K'\n",
      " '<=50K' '>50K' '>50K' '>50K' '<=50K' '<=50K' '<=50K' '<=50K' '>50K'\n",
      " '<=50K' '<=50K' '<=50K' '<=50K' '>50K' '<=50K' '<=50K' '<=50K' '<=50K'\n",
      " '<=50K' '>50K' '<=50K' '>50K' '<=50K' '<=50K' '<=50K' '<=50K' '<=50K'\n",
      " '>50K' '<=50K' '>50K' '<=50K' '<=50K' '>50K' '<=50K' '<=50K' '>50K'\n",
      " '<=50K' '<=50K' '<=50K' '>50K' '>50K' '<=50K' '<=50K' '<=50K' '>50K'\n",
      " '<=50K' '>50K' '>50K' '<=50K' '>50K' '<=50K' '>50K' '<=50K' '<=50K'\n",
      " '>50K' '<=50K' '<=50K' '>50K' '<=50K' '<=50K' '<=50K' '<=50K' '<=50K'\n",
      " '<=50K' '>50K' '<=50K' '>50K' '<=50K' '<=50K' '>50K' '<=50K' '>50K'\n",
      " '<=50K' '<=50K' '<=50K' '<=50K' '<=50K' '<=50K' '<=50K' '<=50K' '<=50K'\n",
      " '<=50K' '<=50K' '<=50K' '>50K' '<=50K' '<=50K' '<=50K' '<=50K' '<=50K'\n",
      " '<=50K' '>50K' '<=50K' '<=50K' '<=50K' '>50K' '>50K' '<=50K' '<=50K'\n",
      " '<=50K' '<=50K' '<=50K' '<=50K' '>50K' '<=50K' '<=50K' '<=50K' '>50K'\n",
      " '<=50K' '<=50K' '<=50K' '<=50K' '>50K' '<=50K' '<=50K' '<=50K' '<=50K'\n",
      " '<=50K' '<=50K' '<=50K' '<=50K' '<=50K' '<=50K' '<=50K' '>50K' '>50K'\n",
      " '<=50K' '>50K' '>50K' '<=50K' '<=50K' '<=50K' '<=50K' '<=50K' '<=50K'\n",
      " '<=50K' '<=50K' '>50K' '<=50K' '<=50K' '<=50K' '>50K' '<=50K' '<=50K'\n",
      " '<=50K' '<=50K' '>50K' '<=50K' '>50K' '<=50K' '<=50K' '<=50K' '<=50K'\n",
      " '>50K' '<=50K' '<=50K' '<=50K' '<=50K' '<=50K' '<=50K' '<=50K' '>50K'\n",
      " '>50K' '<=50K' '<=50K' '<=50K' '<=50K' '>50K' '<=50K' '<=50K' '<=50K'\n",
      " '<=50K' '<=50K' '<=50K' '<=50K' '<=50K' '<=50K' '<=50K' '<=50K' '<=50K'\n",
      " '<=50K' '<=50K' '<=50K' '>50K' '<=50K' '<=50K' '>50K' '>50K' '<=50K'\n",
      " '<=50K' '>50K' '<=50K' '>50K' '<=50K' '<=50K' '<=50K' '<=50K' '<=50K'\n",
      " '<=50K' '<=50K' '<=50K' '<=50K' '<=50K' '<=50K' '<=50K' '<=50K' '<=50K'\n",
      " '<=50K' '<=50K' '<=50K' '>50K' '>50K' '<=50K' '<=50K' '<=50K' '<=50K'\n",
      " '>50K' '<=50K' '<=50K' '>50K' '<=50K' '<=50K' '<=50K' '<=50K' '<=50K'\n",
      " '<=50K' '<=50K' '<=50K' '<=50K' '>50K' '<=50K' '<=50K' '>50K' '>50K'\n",
      " '<=50K' '<=50K' '<=50K' '>50K' '<=50K' '>50K' '<=50K' '<=50K' '>50K'\n",
      " '<=50K' '<=50K' '<=50K' '<=50K' '<=50K' '<=50K' '<=50K' '<=50K' '<=50K'\n",
      " '<=50K' '<=50K' '<=50K' '<=50K' '<=50K' '<=50K' '<=50K' '<=50K' '>50K'\n",
      " '<=50K' '<=50K' '<=50K' '<=50K' '<=50K' '<=50K' '>50K' '<=50K' '<=50K'\n",
      " '>50K' '<=50K' '<=50K' '<=50K' '>50K' '<=50K' '<=50K' '<=50K' '<=50K'\n",
      " '<=50K' '<=50K' '>50K' '<=50K' '>50K' '<=50K' '<=50K' '<=50K' '<=50K'\n",
      " '>50K' '<=50K' '<=50K' '<=50K' '<=50K' '<=50K' '<=50K' '<=50K' '<=50K'\n",
      " '<=50K' '<=50K' '<=50K' '<=50K' '>50K' '<=50K' '<=50K' '>50K' '<=50K'\n",
      " '>50K' '<=50K' '<=50K' '<=50K' '<=50K' '<=50K' '<=50K' '<=50K' '>50K'\n",
      " '>50K']\n"
     ]
    }
   ],
   "source": [
    "predictions = knn.predict(processed_blind_X)\n",
    "\n",
    "predicted_labels = le.inverse_transform(predictions)\n",
    "print(predicted_labels)"
   ]
  },
  {
   "cell_type": "code",
   "execution_count": 77,
   "id": "68ac356e",
   "metadata": {},
   "outputs": [],
   "source": [
    "income_test_predicted = blind_data\n",
    "income_test_predicted['target'] = predicted_labels"
   ]
  },
  {
   "cell_type": "code",
   "execution_count": 78,
   "id": "1a59409b",
   "metadata": {},
   "outputs": [],
   "source": [
    "filename = \"income.test.predicted\"\n",
    "\n",
    "income_test_predicted.to_csv(filename, mode='w', header=False, index=False, sep=',')"
   ]
  },
  {
   "cell_type": "code",
   "execution_count": 79,
   "id": "3a706a75",
   "metadata": {},
   "outputs": [],
   "source": [
    "with open('income.test.predicted', 'r') as file:\n",
    "    content = file.read()\n",
    "\n",
    "content_modified = content.replace(',', ', ')\n",
    "\n",
    "with open('income.test.predicted', 'w') as file:\n",
    "    file.write(content_modified)"
   ]
  },
  {
   "cell_type": "code",
   "execution_count": null,
   "id": "a621ac87",
   "metadata": {},
   "outputs": [],
   "source": []
  }
 ],
 "metadata": {
  "kernelspec": {
   "display_name": "Python 3 (ipykernel)",
   "language": "python",
   "name": "python3"
  },
  "language_info": {
   "codemirror_mode": {
    "name": "ipython",
    "version": 3
   },
   "file_extension": ".py",
   "mimetype": "text/x-python",
   "name": "python",
   "nbconvert_exporter": "python",
   "pygments_lexer": "ipython3",
   "version": "3.9.12"
  }
 },
 "nbformat": 4,
 "nbformat_minor": 5
}
