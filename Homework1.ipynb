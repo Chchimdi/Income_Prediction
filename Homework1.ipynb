{
 "cells": [
  {
   "cell_type": "code",
   "execution_count": 1,
   "id": "9ce840ff",
   "metadata": {},
   "outputs": [
    {
     "name": "stdout",
     "output_type": "stream",
     "text": [
      "\u001b[31mHomework1.ipynb\u001b[m\u001b[m       \u001b[31mincome.test.blind\u001b[m\u001b[m     \u001b[31mrandom_output.py\u001b[m\u001b[m\r\n",
      "\u001b[31mhw1-report.docx\u001b[m\u001b[m       \u001b[31mincome.test.predicted\u001b[m\u001b[m \u001b[31mtoy.txt\u001b[m\u001b[m\r\n",
      "\u001b[31mincome.dev.txt\u001b[m\u001b[m        \u001b[31mincome.train.txt.5k\u001b[m\u001b[m   \u001b[31mvalidate.py\u001b[m\u001b[m\r\n"
     ]
    }
   ],
   "source": [
    "!ls"
   ]
  },
  {
   "cell_type": "code",
   "execution_count": 2,
   "id": "9aaf8f51",
   "metadata": {},
   "outputs": [],
   "source": [
    "import pandas as pd\n",
    "import numpy as np"
   ]
  },
  {
   "cell_type": "markdown",
   "id": "e15e6c16",
   "metadata": {},
   "source": [
    "# Part 1"
   ]
  },
  {
   "cell_type": "markdown",
   "id": "00dd1d40",
   "metadata": {},
   "source": [
    "### 1.1"
   ]
  },
  {
   "cell_type": "code",
   "execution_count": 3,
   "id": "32de4ba6",
   "metadata": {},
   "outputs": [],
   "source": [
    "greater50k = !cat income.train.txt.5k | grep '>50K' -c"
   ]
  },
  {
   "cell_type": "code",
   "execution_count": 4,
   "id": "ac94829e",
   "metadata": {},
   "outputs": [
    {
     "data": {
      "text/plain": [
       "['1251']"
      ]
     },
     "execution_count": 4,
     "metadata": {},
     "output_type": "execute_result"
    }
   ],
   "source": [
    "greater50k"
   ]
  },
  {
   "cell_type": "code",
   "execution_count": 5,
   "id": "6d337bd4",
   "metadata": {},
   "outputs": [],
   "source": [
    "total = !tail -n +2 income.train.txt.5k | wc -l"
   ]
  },
  {
   "cell_type": "code",
   "execution_count": 6,
   "id": "21291b98",
   "metadata": {},
   "outputs": [
    {
     "data": {
      "text/plain": [
       "['    4999']"
      ]
     },
     "execution_count": 6,
     "metadata": {},
     "output_type": "execute_result"
    }
   ],
   "source": [
    "total"
   ]
  },
  {
   "cell_type": "code",
   "execution_count": 7,
   "id": "1e315006",
   "metadata": {},
   "outputs": [
    {
     "name": "stdout",
     "output_type": "stream",
     "text": [
      "Percentage for train set: 25.0250050010002\n"
     ]
    }
   ],
   "source": [
    "greater50k_int = int(greater50k[0])\n",
    "total_int = int(total[0])\n",
    "\n",
    "percentage = (greater50k_int/total_int)*100\n",
    "# percentage\n",
    "\n",
    "print(f'Percentage for train set: {percentage}')"
   ]
  },
  {
   "cell_type": "code",
   "execution_count": 8,
   "id": "002d9545",
   "metadata": {},
   "outputs": [
    {
     "data": {
      "text/plain": [
       "['236']"
      ]
     },
     "execution_count": 8,
     "metadata": {},
     "output_type": "execute_result"
    }
   ],
   "source": [
    "greater50k = !cat income.dev.txt | grep '>50K' -c\n",
    "greater50k"
   ]
  },
  {
   "cell_type": "code",
   "execution_count": 9,
   "id": "638c844f",
   "metadata": {},
   "outputs": [
    {
     "data": {
      "text/plain": [
       "['     999']"
      ]
     },
     "execution_count": 9,
     "metadata": {},
     "output_type": "execute_result"
    }
   ],
   "source": [
    "total = !tail -n +2 income.dev.txt | wc -l\n",
    "total"
   ]
  },
  {
   "cell_type": "code",
   "execution_count": 10,
   "id": "f64ac961",
   "metadata": {},
   "outputs": [
    {
     "name": "stdout",
     "output_type": "stream",
     "text": [
      "Percentage for train set: 23.623623623623622\n"
     ]
    }
   ],
   "source": [
    "greater50k_int = int(greater50k[0])\n",
    "total_int = int(total[0])\n",
    "\n",
    "percentage = (greater50k_int/total_int)*100\n",
    "# percentage\n",
    "\n",
    "print(f'Percentage for train set: {percentage}')"
   ]
  },
  {
   "cell_type": "code",
   "execution_count": 11,
   "id": "f9b7e9c1",
   "metadata": {},
   "outputs": [
    {
     "data": {
      "text/plain": [
       "'From both percentages, it does not make sense that less than 26% of workers in the US earns >50k.'"
      ]
     },
     "execution_count": 11,
     "metadata": {},
     "output_type": "execute_result"
    }
   ],
   "source": [
    "\"From both percentages, it does not make sense that less than 26% of workers in the US earns >50k.\""
   ]
  },
  {
   "cell_type": "markdown",
   "id": "f25f6724",
   "metadata": {},
   "source": [
    "### 1.2"
   ]
  },
  {
   "cell_type": "code",
   "execution_count": 12,
   "id": "ed270ba9",
   "metadata": {},
   "outputs": [],
   "source": [
    "youngest_age = !cat income.train.txt.5k | cut -f 1 -d ','| sort -nk1| head -1\n",
    "maximum_age = !cat income.train.txt.5k | cut -f 1 -d ',' | sort | tail -1"
   ]
  },
  {
   "cell_type": "code",
   "execution_count": 13,
   "id": "5a199443",
   "metadata": {},
   "outputs": [
    {
     "name": "stdout",
     "output_type": "stream",
     "text": [
      "Youngest age: ['17']\n",
      "Oldest age: ['90']\n"
     ]
    }
   ],
   "source": [
    "print(f'Youngest age: {youngest_age}')\n",
    "print(f'Oldest age: {maximum_age}')"
   ]
  },
  {
   "cell_type": "code",
   "execution_count": 14,
   "id": "27150b7e",
   "metadata": {},
   "outputs": [],
   "source": [
    "least_hours = !cat income.train.txt.5k | cut -f 8 -d ','| sort -nk1| head -1\n",
    "most_hours = !cat income.train.txt.5k | cut -f 8 -d ',' | sort | tail -1"
   ]
  },
  {
   "cell_type": "code",
   "execution_count": 15,
   "id": "207b4924",
   "metadata": {
    "scrolled": true
   },
   "outputs": [
    {
     "name": "stdout",
     "output_type": "stream",
     "text": [
      "Least hours: [' 1']hour(s) per week\n",
      "Most hours: [' 99']hour(s) per week\n"
     ]
    }
   ],
   "source": [
    "print(f'Least hours: {least_hours}hour(s) per week')\n",
    "print(f'Most hours: {most_hours}hour(s) per week')"
   ]
  },
  {
   "cell_type": "markdown",
   "id": "370f3a53",
   "metadata": {},
   "source": [
    "## 1.3"
   ]
  },
  {
   "cell_type": "code",
   "execution_count": 16,
   "id": "d7ca0af9",
   "metadata": {},
   "outputs": [
    {
     "data": {
      "text/plain": [
       "'Binarizing categorical fields converts non-numerical data into a format suitable for machine learning algorithms, ensuring accurate interpretations without introducing algorithmic bias from ordinal encodings.'"
      ]
     },
     "execution_count": 16,
     "metadata": {},
     "output_type": "execute_result"
    }
   ],
   "source": [
    "\"Binarizing categorical fields converts non-numerical data into a format suitable for machine learning algorithms, ensuring accurate interpretations without introducing algorithmic bias from ordinal encodings.\""
   ]
  },
  {
   "cell_type": "code",
   "execution_count": 17,
   "id": "d476e7e7",
   "metadata": {},
   "outputs": [
    {
     "data": {
      "text/plain": [
       "'We do not want to binarize the two numerical fields, age and hours, because they contain ordinal data with meaningful magnitudes and relationships, and binarizing them would result in a loss of this valuable information and introduce unnecessary dimensionality.'"
      ]
     },
     "execution_count": 17,
     "metadata": {},
     "output_type": "execute_result"
    }
   ],
   "source": [
    "\"We do not want to binarize the two numerical fields, age and hours, because they contain ordinal data with meaningful magnitudes and relationships, and binarizing them would result in a loss of this valuable information and introduce unnecessary dimensionality.\""
   ]
  },
  {
   "cell_type": "markdown",
   "id": "a3a1b1f0",
   "metadata": {},
   "source": [
    "## 1.4"
   ]
  },
  {
   "cell_type": "markdown",
   "id": "7fc89df1",
   "metadata": {},
   "source": [
    "#### How should we deal with the two numerical fields? Just as is, or normalize them (say, age / 100)"
   ]
  },
  {
   "cell_type": "code",
   "execution_count": 18,
   "id": "67d6b64e",
   "metadata": {},
   "outputs": [
    {
     "data": {
      "text/plain": [
       "'We should scale the numerical fields so that their maximum Manhattan distance matches that of the categorical fields. For instance, multiplying the normalized age by 2 (after dividing by 100) would make its range between 0 and 2, aligning its maximum Manhattan distance with the categorical fields.'"
      ]
     },
     "execution_count": 18,
     "metadata": {},
     "output_type": "execute_result"
    }
   ],
   "source": [
    "'We should scale the numerical fields so that their maximum Manhattan distance matches that of the categorical fields. For instance, multiplying the normalized age by 2 (after dividing by 100) would make its range between 0 and 2, aligning its maximum Manhattan distance with the categorical fields.'"
   ]
  },
  {
   "cell_type": "markdown",
   "id": "d9660630",
   "metadata": {},
   "source": [
    "#### If we simply normalize a numerical field (age/100), what’s the max distance on age?"
   ]
  },
  {
   "cell_type": "markdown",
   "id": "4e33128b",
   "metadata": {},
   "source": [
    "The range for age is between 0 and 100 (generally speaking). If we normalize it by dividing by 100:\n",
    "- Minimum age (0 years) becomes 0.\n",
    "- Maximum age (100 years) becomes 1.\n",
    "\n",
    "Given the Manhattan distance formula, the maximum distance between these two extremes is:\n",
    "Distance = |1 - 0| = 1"
   ]
  },
  {
   "cell_type": "markdown",
   "id": "364f75ad",
   "metadata": {},
   "source": [
    "#### Are we treating all fields equally"
   ]
  },
  {
   "cell_type": "markdown",
   "id": "6338073e",
   "metadata": {},
   "source": [
    "No.\n",
    "By using this normalization approach, we are not treating all fields equally. The discrepancy in maximum possible distance means that categorical fields can potentially have a more significant influence on algorithms or analyses that rely on distance measurements compared to the normalized numerical fields."
   ]
  },
  {
   "cell_type": "markdown",
   "id": "2925d9c4",
   "metadata": {},
   "source": [
    "### 1.5"
   ]
  },
  {
   "cell_type": "code",
   "execution_count": 19,
   "id": "c9eea9e2",
   "metadata": {},
   "outputs": [
    {
     "name": "stdout",
     "output_type": "stream",
     "text": [
      "9\r\n"
     ]
    }
   ],
   "source": [
    "!head -n 1 income.train.txt.5k | awk '{print NF - 1}'"
   ]
  },
  {
   "cell_type": "markdown",
   "id": "a93a3686",
   "metadata": {},
   "source": [
    "# Part 2"
   ]
  },
  {
   "cell_type": "markdown",
   "id": "c487c09f",
   "metadata": {},
   "source": [
    "#### Question: Although pandas.get_dummies() is very handy for one-hot encoding, it’s absolutely impossible\n",
    "#### to be used in machine learning. Why? (0.5 pts) (Hint: It’s important to think about the entire pipeline. When\n",
    "#### working with training, dev and test sets, we need to ensure consistent representation across all of them.)"
   ]
  },
  {
   "cell_type": "markdown",
   "id": "50b3f678",
   "metadata": {},
   "source": [
    "Inconsistent Column Representation: pandas.get_dummies() generates columns based on the unique values present in the dataset it's applied to. If the training, dev, and test sets have different categorical values, the function could generate different columns for each set. This inconsistency in representation can break machine learning models since models trained on one set of features won't necessarily know how to handle a different set."
   ]
  },
  {
   "cell_type": "markdown",
   "id": "369461a2",
   "metadata": {},
   "source": [
    "#### Question: After implementing the naive binarization to the real training set (NOT the toy set), what is the\n",
    "#### feature dimension? Does it match with the result from Part 1 Q5?"
   ]
  },
  {
   "cell_type": "code",
   "execution_count": 20,
   "id": "d607200c",
   "metadata": {},
   "outputs": [],
   "source": [
    "from sklearn.neighbors import KNeighborsClassifier\n",
    "from sklearn.metrics import accuracy_score\n",
    "\n",
    "from sklearn.preprocessing import OneHotEncoder\n",
    "encoder = OneHotEncoder(sparse=False, handle_unknown='ignore')\n",
    "\n",
    "import seaborn as sns\n",
    "import matplotlib.pyplot as plt"
   ]
  },
  {
   "cell_type": "code",
   "execution_count": 21,
   "id": "e7d2ee5d",
   "metadata": {},
   "outputs": [
    {
     "name": "stderr",
     "output_type": "stream",
     "text": [
      "/var/folders/0w/8f1jvhb168s59xf27pmhg6yw0000gp/T/ipykernel_4082/2864124850.py:2: ParserWarning: Falling back to the 'python' engine because the 'c' engine does not support regex separators (separators > 1 char and different from '\\s+' are interpreted as regex); you can avoid this warning by specifying engine='python'.\n",
      "  train_data = pd.read_csv(\"income.train.txt.5k\", sep=\", \", names=names)\n",
      "/var/folders/0w/8f1jvhb168s59xf27pmhg6yw0000gp/T/ipykernel_4082/2864124850.py:3: ParserWarning: Falling back to the 'python' engine because the 'c' engine does not support regex separators (separators > 1 char and different from '\\s+' are interpreted as regex); you can avoid this warning by specifying engine='python'.\n",
      "  dev_data = pd.read_csv(\"income.dev.txt\", sep=\", \", names=names)\n",
      "/var/folders/0w/8f1jvhb168s59xf27pmhg6yw0000gp/T/ipykernel_4082/2864124850.py:4: ParserWarning: Falling back to the 'python' engine because the 'c' engine does not support regex separators (separators > 1 char and different from '\\s+' are interpreted as regex); you can avoid this warning by specifying engine='python'.\n",
      "  blind_data = pd.read_csv(\"income.test.blind\", sep=\", \", names=names)\n"
     ]
    }
   ],
   "source": [
    "names = [\"age\", \"sector\", \"edu\", \"marriage\", \"occupation\", \"race\", \"sex\", \"hours\", \"country\", \"target\"]\n",
    "train_data = pd.read_csv(\"income.train.txt.5k\", sep=\", \", names=names) \n",
    "dev_data = pd.read_csv(\"income.dev.txt\", sep=\", \", names=names)\n",
    "blind_data = pd.read_csv(\"income.test.blind\", sep=\", \", names=names)"
   ]
  },
  {
   "cell_type": "code",
   "execution_count": 22,
   "id": "fc2cc87a",
   "metadata": {},
   "outputs": [],
   "source": [
    "train_y = train_data.iloc[:, -1]\n",
    "train_X = train_data.iloc[:, :-1]\n",
    "\n",
    "dev_y = dev_data.iloc[:, -1]\n",
    "dev_X = dev_data.iloc[:, :-1]"
   ]
  },
  {
   "cell_type": "code",
   "execution_count": 23,
   "id": "48675bb1",
   "metadata": {},
   "outputs": [
    {
     "name": "stderr",
     "output_type": "stream",
     "text": [
      "/Users/chikezic/miniconda3/lib/python3.9/site-packages/sklearn/preprocessing/_encoders.py:868: FutureWarning: `sparse` was renamed to `sparse_output` in version 1.2 and will be removed in 1.4. `sparse_output` is ignored unless you leave `sparse` to its default value.\n",
      "  warnings.warn(\n"
     ]
    }
   ],
   "source": [
    "# It ensures consistent representation across training, dev, and test sets\n",
    "encoder.fit(train_X)                          # you only fit the encoder once (on training)\n",
    "train_X = encoder.transform(train_X)         # but use it to transform training, dev, and test sets\n",
    "dev_X = encoder.transform(dev_X)"
   ]
  },
  {
   "cell_type": "code",
   "execution_count": 24,
   "id": "c2261c9d",
   "metadata": {},
   "outputs": [
    {
     "data": {
      "text/plain": [
       "'Training set Feature dimension = 230'"
      ]
     },
     "execution_count": 24,
     "metadata": {},
     "output_type": "execute_result"
    }
   ],
   "source": [
    "#train_X = encoder.fit_transform(train_X)\n",
    "f\"Training set Feature dimension = {train_X.shape[1]}\""
   ]
  },
  {
   "cell_type": "markdown",
   "id": "f3ee12b9",
   "metadata": {},
   "source": [
    "Yes, it does match with the answer in Part 1 Q5."
   ]
  },
  {
   "cell_type": "code",
   "execution_count": 25,
   "id": "7e9c69df",
   "metadata": {
    "scrolled": true
   },
   "outputs": [
    {
     "data": {
      "text/plain": [
       "'Dev set Feature dimension = 230'"
      ]
     },
     "execution_count": 25,
     "metadata": {},
     "output_type": "execute_result"
    }
   ],
   "source": [
    "f\"Dev set Feature dimension = {dev_X.shape[1]}\""
   ]
  },
  {
   "cell_type": "code",
   "execution_count": 26,
   "id": "05417135",
   "metadata": {},
   "outputs": [],
   "source": [
    "from sklearn.preprocessing import LabelEncoder\n",
    "\n",
    "# Instantiate and fit the encoder to your training labels\n",
    "le = LabelEncoder()\n",
    "train_y = le.fit_transform(train_y)\n",
    "dev_y = le.transform(dev_y)"
   ]
  },
  {
   "cell_type": "code",
   "execution_count": 27,
   "id": "97a7f13d",
   "metadata": {
    "scrolled": true
   },
   "outputs": [],
   "source": [
    "import numpy as np\n",
    "import time\n",
    "from sklearn.neighbors import KNeighborsClassifier\n",
    "from sklearn.metrics import accuracy_score\n",
    "\n",
    "\n",
    "def evaluate_knn(train_X, train_y, dev_X, dev_y):\n",
    "    ks = list(range(1, 100, 2))\n",
    "    error_rates_train = []\n",
    "    error_rates_dev = []\n",
    "    positive_rates_train = []\n",
    "    positive_rates_dev = []\n",
    "    runtimes = []\n",
    "\n",
    "    best_error_rate = np.inf\n",
    "    best_k = None\n",
    "\n",
    "    for k in ks:\n",
    "        knn = KNeighborsClassifier(n_neighbors=k)\n",
    "        \n",
    "        start_time = time.time()\n",
    "        knn.fit(train_X, train_y)\n",
    "        runtimes.append(time.time() - start_time)\n",
    "        \n",
    "        preds_train = knn.predict(train_X)\n",
    "        preds_dev = knn.predict(dev_X)\n",
    "\n",
    "        error_rate_train = 1 - accuracy_score(train_y, preds_train)\n",
    "        error_rate_dev = 1 - accuracy_score(dev_y, preds_dev)\n",
    "        \n",
    "        if k == 99:\n",
    "            print(f'Time for k=99: {time.time() - start_time}seconds')\n",
    "#             !time python\n",
    "            \n",
    "        if k == 1:\n",
    "            print(f'Error when k is 1: {error_rate_train:.2f}')\n",
    "            \n",
    "        if error_rate_dev < best_error_rate:\n",
    "            best_error_rate = error_rate_dev\n",
    "            best_k = k\n",
    "\n",
    "        positive_rate_train = np.mean(preds_train)\n",
    "        positive_rate_dev = np.mean(preds_dev)\n",
    "\n",
    "        error_rates_train.append(error_rate_train)\n",
    "        error_rates_dev.append(error_rate_dev)\n",
    "        positive_rates_train.append(positive_rate_train)\n",
    "        positive_rates_dev.append(positive_rate_dev)\n",
    "\n",
    "    print(f\"Best error rate on dev set: {best_error_rate:.2f}({best_error_rate*100:.2f}%)\")\n",
    "    print(f\"Value of k that achieves the best error rate: {best_k}\")\n",
    "    \n",
    "    return ks, error_rates_train, error_rates_dev, positive_rates_train, positive_rates_dev, runtimes, best_k"
   ]
  },
  {
   "cell_type": "code",
   "execution_count": 28,
   "id": "ad45adfc",
   "metadata": {},
   "outputs": [
    {
     "name": "stdout",
     "output_type": "stream",
     "text": [
      "Error when k is 1: 0.02\n",
      "Time for k=99: 0.8124091625213623seconds\n",
      "Best error rate on dev set: 0.15(15.40%)\n",
      "Value of k that achieves the best error rate: 95\n"
     ]
    }
   ],
   "source": [
    "ks, error_rates_train, error_rates_dev, positive_rates_train, positive_rates_dev, runtimes, best_k = evaluate_knn(train_X, train_y, dev_X, dev_y)"
   ]
  },
  {
   "cell_type": "code",
   "execution_count": 29,
   "id": "4c728d0d",
   "metadata": {},
   "outputs": [],
   "source": [
    "# results = evaluate_knn(train_X, train_y, dev_X, dev_y)"
   ]
  },
  {
   "cell_type": "code",
   "execution_count": 30,
   "id": "09ef507e",
   "metadata": {},
   "outputs": [
    {
     "data": {
      "image/png": "[encoded data removed]",
      "text/plain": [
       "<Figure size 640x480 with 1 Axes>"
      ]
     },
     "metadata": {},
     "output_type": "display_data"
    },
    {
     "data": {
      "image/png": "[encoded data removed]",
      "text/plain": [
       "<Figure size 640x480 with 1 Axes>"
      ]
     },
     "metadata": {},
     "output_type": "display_data"
    },
    {
     "data": {
      "image/png": "[encoded data removed]",
      "text/plain": [
       "<Figure size 640x480 with 1 Axes>"
      ]
     },
     "metadata": {},
     "output_type": "display_data"
    }
   ],
   "source": [
    "sns.lineplot(x=ks, y=error_rates_train, label=\"Train Error Rate\")\n",
    "sns.lineplot(x=ks, y=error_rates_dev, label=\"Dev Error Rate\")\n",
    "plt.xlabel(\"k\")\n",
    "plt.ylabel(\"Error Rate\")\n",
    "plt.legend()\n",
    "plt.show()\n",
    "\n",
    "sns.lineplot(x=ks, y=positive_rates_train, label=\"Train Positive Rate\")\n",
    "sns.lineplot(x=ks, y=positive_rates_dev, label=\"Dev Positive Rate\")\n",
    "plt.xlabel(\"k\")\n",
    "plt.ylabel(\"Positive Rate\")\n",
    "plt.legend()\n",
    "plt.show()\n",
    "\n",
    "sns.lineplot(x=ks, y=runtimes, label=\"Training Runtime\")\n",
    "plt.xlabel(\"k\")\n",
    "plt.ylabel(\"Runtime (seconds)\")\n",
    "plt.legend()\n",
    "plt.show()"
   ]
  },
  {
   "cell_type": "markdown",
   "id": "066156f9",
   "metadata": {},
   "source": [
    "#### Q: what’s your best error rate on dev? \n",
    "#### Which k achieves this best error rate? (Hint: 1-NN dev error should\n",
    "#### be ∼23% and the best dev error should be ∼16%). (1 pt)"
   ]
  },
  {
   "cell_type": "markdown",
   "id": "756dc845",
   "metadata": {},
   "source": [
    "Yes, when k=1 in a k-NN (k-Nearest Neighbors) algorithm, the training error is typically 0% because for each instance in the training set, the closest instance is itself."
   ]
  },
  {
   "cell_type": "markdown",
   "id": "6c278871",
   "metadata": {},
   "source": [
    "#### Q: What trends (train and dev error rates and positive ratios, and running speed) do you observe with\n",
    "#### increasing k?"
   ]
  },
  {
   "cell_type": "markdown",
   "id": "1f9ba6df",
   "metadata": {},
   "source": [
    "Train error: As k increases, the training error rate starts to rise. This is because the decision boundary becomes smoother with larger k, and it becomes less sensitive to individual data points.\n",
    "\n",
    "Dev error: The model's variance decreases and its bias increases. This led to a decrease in the dev error rate initially (since the overfitting reduces), but after a certain point, as k becomes too large, the model may become too biased and the dev error rate might start increasing again.\n",
    "\n",
    "The predicted positive ratio for both training and dev sets became more stable as k increased.\n",
    "\n",
    "As k increases, prediction time generally increases because more distances need to be computed and sorted to determine the top k neighbors."
   ]
  },
  {
   "cell_type": "markdown",
   "id": "ab9a0ced",
   "metadata": {},
   "source": [
    "#### Q: What does k = ∞ actually do? Is it extreme overfitting or underfitting? What about k = 1?"
   ]
  },
  {
   "cell_type": "markdown",
   "id": "af32f483",
   "metadata": {},
   "source": [
    "k = 1 leads to extreme overfitting because it relies too much on the noise of the training data.\n",
    "\n",
    "k = ∞ leads to extreme underfitting because it oversimplifies the problem and ignores the useful patterns in the data."
   ]
  },
  {
   "cell_type": "markdown",
   "id": "084beb71",
   "metadata": {},
   "source": [
    "# Part 3"
   ]
  },
  {
   "cell_type": "code",
   "execution_count": 31,
   "id": "cc552d68",
   "metadata": {},
   "outputs": [
    {
     "name": "stderr",
     "output_type": "stream",
     "text": [
      "/var/folders/0w/8f1jvhb168s59xf27pmhg6yw0000gp/T/ipykernel_4082/4066432312.py:1: ParserWarning: Falling back to the 'python' engine because the 'c' engine does not support regex separators (separators > 1 char and different from '\\s+' are interpreted as regex); you can avoid this warning by specifying engine='python'.\n",
      "  toy_data = pd.read_csv(\"toy.txt\", sep=\", \", names=[\"age\", \"sector\"])\n"
     ]
    }
   ],
   "source": [
    "toy_data = pd.read_csv(\"toy.txt\", sep=\", \", names=[\"age\", \"sector\"]) "
   ]
  },
  {
   "cell_type": "code",
   "execution_count": 32,
   "id": "1a529f59",
   "metadata": {},
   "outputs": [],
   "source": [
    "from sklearn.compose import ColumnTransformer\n",
    "from sklearn.preprocessing import OneHotEncoder"
   ]
  },
  {
   "cell_type": "code",
   "execution_count": 33,
   "id": "07c998c9",
   "metadata": {},
   "outputs": [],
   "source": [
    "num_processor = 'passthrough' # i.e., no transformation\n",
    "cat_processor = OneHotEncoder(sparse=False, handle_unknown='ignore')"
   ]
  },
  {
   "cell_type": "code",
   "execution_count": 34,
   "id": "04acc0d7",
   "metadata": {},
   "outputs": [],
   "source": [
    "train_y = train_data[['target']]\n",
    "train_X = train_data[['age', 'hours', 'sector', 'edu', 'marriage', 'occupation', 'race', 'sex', 'country']]\n",
    "\n",
    "dev_y = dev_data[['target']]\n",
    "dev_X = dev_data[['age', 'hours', 'sector', 'edu', 'marriage', 'occupation', 'race', 'sex', 'country']]"
   ]
  },
  {
   "cell_type": "code",
   "execution_count": 35,
   "id": "97e92412",
   "metadata": {},
   "outputs": [
    {
     "name": "stderr",
     "output_type": "stream",
     "text": [
      "/Users/chikezic/miniconda3/lib/python3.9/site-packages/sklearn/preprocessing/_label.py:116: DataConversionWarning: A column-vector y was passed when a 1d array was expected. Please change the shape of y to (n_samples, ), for example using ravel().\n",
      "  y = column_or_1d(y, warn=True)\n",
      "/Users/chikezic/miniconda3/lib/python3.9/site-packages/sklearn/preprocessing/_label.py:134: DataConversionWarning: A column-vector y was passed when a 1d array was expected. Please change the shape of y to (n_samples, ), for example using ravel().\n",
      "  y = column_or_1d(y, dtype=self.classes_.dtype, warn=True)\n"
     ]
    }
   ],
   "source": [
    "# Instantiate and fit the encoder to your training labels\n",
    "le = LabelEncoder()\n",
    "train_y = le.fit_transform(train_y)\n",
    "dev_y = le.transform(dev_y)"
   ]
  },
  {
   "cell_type": "code",
   "execution_count": 36,
   "id": "3a785851",
   "metadata": {},
   "outputs": [],
   "source": [
    "preprocessor = ColumnTransformer([\n",
    "    ('num', num_processor, ['age', 'hours']),\n",
    "    ('cat', cat_processor, ['sector', 'edu', 'marriage', 'occupation', 'race', 'sex', 'country'])\n",
    "])"
   ]
  },
  {
   "cell_type": "code",
   "execution_count": 37,
   "id": "a1ae0e7e",
   "metadata": {},
   "outputs": [
    {
     "name": "stderr",
     "output_type": "stream",
     "text": [
      "/Users/chikezic/miniconda3/lib/python3.9/site-packages/sklearn/preprocessing/_encoders.py:868: FutureWarning: `sparse` was renamed to `sparse_output` in version 1.2 and will be removed in 1.4. `sparse_output` is ignored unless you leave `sparse` to its default value.\n",
      "  warnings.warn(\n"
     ]
    }
   ],
   "source": [
    "preprocessor.fit(train_X)\n",
    "processed_train_X = preprocessor.transform(train_X)"
   ]
  },
  {
   "cell_type": "code",
   "execution_count": 38,
   "id": "d65f0414",
   "metadata": {},
   "outputs": [
    {
     "data": {
      "text/plain": [
       "92"
      ]
     },
     "execution_count": 38,
     "metadata": {},
     "output_type": "execute_result"
    }
   ],
   "source": [
    "len(preprocessor.get_feature_names_out())"
   ]
  },
  {
   "cell_type": "code",
   "execution_count": 39,
   "id": "01004b62",
   "metadata": {},
   "outputs": [],
   "source": [
    "processed_dev_X = preprocessor.transform(dev_X)"
   ]
  },
  {
   "cell_type": "code",
   "execution_count": 40,
   "id": "4cde75ed",
   "metadata": {},
   "outputs": [
    {
     "data": {
      "text/plain": [
       "92"
      ]
     },
     "execution_count": 40,
     "metadata": {},
     "output_type": "execute_result"
    }
   ],
   "source": [
    "len(preprocessor.get_feature_names_out())"
   ]
  },
  {
   "cell_type": "code",
   "execution_count": 41,
   "id": "86d82648",
   "metadata": {},
   "outputs": [
    {
     "name": "stdout",
     "output_type": "stream",
     "text": [
      "Error when k is 1: 0.02\n",
      "Time for k=99: 1.208024024963379seconds\n",
      "Best error rate on dev set: 0.21(20.70%)\n",
      "Value of k that achieves the best error rate: 33\n"
     ]
    }
   ],
   "source": [
    "ks, error_rates_train, error_rates_dev, positive_rates_train, positive_rates_dev, runtimes, best_k = evaluate_knn(processed_train_X, train_y, processed_dev_X, dev_y)"
   ]
  },
  {
   "cell_type": "code",
   "execution_count": 42,
   "id": "8a660b16",
   "metadata": {},
   "outputs": [],
   "source": [
    "# results = evaluate_knn(processed_train_X, train_y, processed_dev_X, dev_y)"
   ]
  },
  {
   "cell_type": "code",
   "execution_count": 43,
   "id": "bf5559bf",
   "metadata": {},
   "outputs": [
    {
     "data": {
      "image/png": "[encoded data removed]",
      "text/plain": [
       "<Figure size 640x480 with 1 Axes>"
      ]
     },
     "metadata": {},
     "output_type": "display_data"
    },
    {
     "data": {
      "image/png": "[encoded data removed]",
      "text/plain": [
       "<Figure size 640x480 with 1 Axes>"
      ]
     },
     "metadata": {},
     "output_type": "display_data"
    },
    {
     "data": {
      "image/png": "[encoded data removed]",
      "text/plain": [
       "<Figure size 640x480 with 1 Axes>"
      ]
     },
     "metadata": {},
     "output_type": "display_data"
    }
   ],
   "source": [
    "sns.lineplot(x=ks, y=error_rates_train, label=\"Train Error Rate\")\n",
    "sns.lineplot(x=ks, y=error_rates_dev, label=\"Dev Error Rate\")\n",
    "plt.xlabel(\"k\")\n",
    "plt.ylabel(\"Error Rate\")\n",
    "plt.legend()\n",
    "plt.show()\n",
    "\n",
    "sns.lineplot(x=ks, y=positive_rates_train, label=\"Train Positive Rate\")\n",
    "sns.lineplot(x=ks, y=positive_rates_dev, label=\"Dev Positive Rate\")\n",
    "plt.xlabel(\"k\")\n",
    "plt.ylabel(\"Positive Rate\")\n",
    "plt.legend()\n",
    "plt.show()\n",
    "\n",
    "sns.lineplot(x=ks, y=runtimes, label=\"Training Runtime\")\n",
    "plt.xlabel(\"k\")\n",
    "plt.ylabel(\"Runtime (seconds)\")\n",
    "plt.legend()\n",
    "plt.show()"
   ]
  },
  {
   "cell_type": "markdown",
   "id": "59ea4f6e",
   "metadata": {},
   "source": [
    "#### Do you notice any performance improvements compared to the initial results? If so, why? If not, why do you think that is?"
   ]
  },
  {
   "cell_type": "markdown",
   "id": "a14ef98d",
   "metadata": {},
   "source": [
    "Numerical fields might have dominated the distance calculations, especially after treating categorical and numerical fields differently."
   ]
  },
  {
   "cell_type": "code",
   "execution_count": null,
   "id": "188f5fa3",
   "metadata": {},
   "outputs": [],
   "source": []
  },
  {
   "cell_type": "code",
   "execution_count": 44,
   "id": "d89b8195",
   "metadata": {},
   "outputs": [],
   "source": [
    "from sklearn.preprocessing import MinMaxScaler, OneHotEncoder"
   ]
  },
  {
   "cell_type": "code",
   "execution_count": 45,
   "id": "17007634",
   "metadata": {},
   "outputs": [],
   "source": [
    "num_processor = MinMaxScaler(feature_range=(0, 2))\n",
    "cat_processor = OneHotEncoder(sparse=False, handle_unknown='ignore')"
   ]
  },
  {
   "cell_type": "code",
   "execution_count": 46,
   "id": "e069f125",
   "metadata": {},
   "outputs": [],
   "source": [
    "train_y = train_data[['target']]\n",
    "train_X = train_data[['age', 'hours', 'sector', 'edu', 'marriage', 'occupation', 'race', 'sex', 'country']]\n",
    "\n",
    "dev_y = dev_data[['target']]\n",
    "dev_X = dev_data[['age', 'hours', 'sector', 'edu', 'marriage', 'occupation', 'race', 'sex', 'country']]"
   ]
  },
  {
   "cell_type": "code",
   "execution_count": 47,
   "id": "abcd0581",
   "metadata": {},
   "outputs": [],
   "source": [
    "blind_X = blind_data[['age', 'hours', 'sector', 'edu', 'marriage', 'occupation', 'race', 'sex', 'country']]"
   ]
  },
  {
   "cell_type": "code",
   "execution_count": 48,
   "id": "625cb3c2",
   "metadata": {},
   "outputs": [
    {
     "name": "stderr",
     "output_type": "stream",
     "text": [
      "/Users/chikezic/miniconda3/lib/python3.9/site-packages/sklearn/preprocessing/_label.py:116: DataConversionWarning: A column-vector y was passed when a 1d array was expected. Please change the shape of y to (n_samples, ), for example using ravel().\n",
      "  y = column_or_1d(y, warn=True)\n",
      "/Users/chikezic/miniconda3/lib/python3.9/site-packages/sklearn/preprocessing/_label.py:134: DataConversionWarning: A column-vector y was passed when a 1d array was expected. Please change the shape of y to (n_samples, ), for example using ravel().\n",
      "  y = column_or_1d(y, dtype=self.classes_.dtype, warn=True)\n"
     ]
    }
   ],
   "source": [
    "le = LabelEncoder()\n",
    "train_y = le.fit_transform(train_y)\n",
    "dev_y = le.transform(dev_y)"
   ]
  },
  {
   "cell_type": "code",
   "execution_count": 49,
   "id": "85f2cd38",
   "metadata": {},
   "outputs": [],
   "source": [
    "preprocessor = ColumnTransformer([\n",
    "    ('num', num_processor, ['age', 'hours']),\n",
    "    ('cat', cat_processor, ['sector', 'edu', 'marriage', 'occupation', 'race', 'sex', 'country'])\n",
    "])"
   ]
  },
  {
   "cell_type": "code",
   "execution_count": 50,
   "id": "faf15eb8",
   "metadata": {},
   "outputs": [
    {
     "name": "stderr",
     "output_type": "stream",
     "text": [
      "/Users/chikezic/miniconda3/lib/python3.9/site-packages/sklearn/preprocessing/_encoders.py:868: FutureWarning: `sparse` was renamed to `sparse_output` in version 1.2 and will be removed in 1.4. `sparse_output` is ignored unless you leave `sparse` to its default value.\n",
      "  warnings.warn(\n"
     ]
    }
   ],
   "source": [
    "preprocessor.fit(train_X)\n",
    "processed_train_X = preprocessor.transform(train_X)"
   ]
  },
  {
   "cell_type": "code",
   "execution_count": 51,
   "id": "2d1bbe73",
   "metadata": {},
   "outputs": [
    {
     "data": {
      "text/plain": [
       "92"
      ]
     },
     "execution_count": 51,
     "metadata": {},
     "output_type": "execute_result"
    }
   ],
   "source": [
    "len(preprocessor.get_feature_names_out())"
   ]
  },
  {
   "cell_type": "code",
   "execution_count": 52,
   "id": "62776eee",
   "metadata": {
    "scrolled": true
   },
   "outputs": [],
   "source": [
    "processed_dev_X = preprocessor.transform(dev_X)"
   ]
  },
  {
   "cell_type": "code",
   "execution_count": 53,
   "id": "7699eb08",
   "metadata": {},
   "outputs": [
    {
     "name": "stdout",
     "output_type": "stream",
     "text": [
      "Error when k is 1: 0.02\n",
      "Time for k=99: 0.9745378494262695seconds\n",
      "Best error rate on dev set: 0.14(14.40%)\n",
      "Value of k that achieves the best error rate: 37\n"
     ]
    }
   ],
   "source": [
    "ks, error_rates_train, error_rates_dev, positive_rates_train, positive_rates_dev, runtimes, best_k = evaluate_knn(processed_train_X, train_y, processed_dev_X, dev_y)"
   ]
  },
  {
   "cell_type": "code",
   "execution_count": 54,
   "id": "2b164eb2",
   "metadata": {
    "scrolled": false
   },
   "outputs": [
    {
     "data": {
      "image/png": "[encoded data removed]",
      "text/plain": [
       "<Figure size 640x480 with 1 Axes>"
      ]
     },
     "metadata": {},
     "output_type": "display_data"
    },
    {
     "data": {
      "image/png": "[encoded data removed]",
      "text/plain": [
       "<Figure size 640x480 with 1 Axes>"
      ]
     },
     "metadata": {},
     "output_type": "display_data"
    },
    {
     "data": {
      "image/png": "[encoded data removed]",
      "text/plain": [
       "<Figure size 640x480 with 1 Axes>"
      ]
     },
     "metadata": {},
     "output_type": "display_data"
    }
   ],
   "source": [
    "sns.lineplot(x=ks, y=error_rates_train, label=\"Train Error Rate\")\n",
    "sns.lineplot(x=ks, y=error_rates_dev, label=\"Dev Error Rate\")\n",
    "plt.xlabel(\"k\")\n",
    "plt.ylabel(\"Error Rate\")\n",
    "plt.legend()\n",
    "plt.show()\n",
    "\n",
    "sns.lineplot(x=ks, y=positive_rates_train, label=\"Train Positive Rate\")\n",
    "sns.lineplot(x=ks, y=positive_rates_dev, label=\"Dev Positive Rate\")\n",
    "plt.xlabel(\"k\")\n",
    "plt.ylabel(\"Positive Rate\")\n",
    "plt.legend()\n",
    "plt.show()\n",
    "\n",
    "sns.lineplot(x=ks, y=runtimes, label=\"Training Runtime\")\n",
    "plt.xlabel(\"k\")\n",
    "plt.ylabel(\"Runtime (seconds)\")\n",
    "plt.legend()\n",
    "plt.show()"
   ]
  },
  {
   "cell_type": "markdown",
   "id": "b4bb35e7",
   "metadata": {},
   "source": [
    "# Part 5"
   ]
  },
  {
   "cell_type": "code",
   "execution_count": 55,
   "id": "15c9ebff",
   "metadata": {
    "scrolled": false
   },
   "outputs": [],
   "source": [
    "processed_blind_X = preprocessor.transform(blind_X)"
   ]
  },
  {
   "cell_type": "code",
   "execution_count": 56,
   "id": "4d4bb170",
   "metadata": {},
   "outputs": [],
   "source": [
    "knn = KNeighborsClassifier(n_neighbors=best_k)\n",
    "\n",
    "# Train the KNN classifier on just the training set\n",
    "knn.fit(processed_train_X, train_y)\n",
    "\n",
    "# 2. Predict on the Blind Test Set\n",
    "predictions_blind = knn.predict(processed_blind_X)"
   ]
  },
  {
   "cell_type": "code",
   "execution_count": 57,
   "id": "ae629294",
   "metadata": {},
   "outputs": [
    {
     "name": "stdout",
     "output_type": "stream",
     "text": [
      "['>50K' '<=50K' '<=50K' '>50K' '<=50K' '<=50K' '<=50K' '>50K' '>50K'\n",
      " '<=50K' '<=50K' '<=50K' '<=50K' '<=50K' '<=50K' '<=50K' '<=50K' '<=50K'\n",
      " '>50K' '>50K' '<=50K' '<=50K' '<=50K' '<=50K' '<=50K' '>50K' '<=50K'\n",
      " '<=50K' '>50K' '<=50K' '>50K' '<=50K' '<=50K' '>50K' '<=50K' '<=50K'\n",
      " '<=50K' '<=50K' '>50K' '>50K' '<=50K' '<=50K' '<=50K' '>50K' '<=50K'\n",
      " '>50K' '<=50K' '>50K' '>50K' '<=50K' '<=50K' '<=50K' '>50K' '>50K'\n",
      " '<=50K' '>50K' '<=50K' '>50K' '<=50K' '>50K' '<=50K' '>50K' '<=50K'\n",
      " '<=50K' '<=50K' '>50K' '>50K' '<=50K' '>50K' '<=50K' '>50K' '<=50K'\n",
      " '<=50K' '<=50K' '<=50K' '<=50K' '<=50K' '<=50K' '<=50K' '<=50K' '<=50K'\n",
      " '<=50K' '<=50K' '<=50K' '<=50K' '<=50K' '<=50K' '>50K' '<=50K' '<=50K'\n",
      " '<=50K' '<=50K' '>50K' '<=50K' '<=50K' '<=50K' '>50K' '<=50K' '<=50K'\n",
      " '<=50K' '>50K' '<=50K' '>50K' '<=50K' '<=50K' '<=50K' '<=50K' '>50K'\n",
      " '<=50K' '<=50K' '<=50K' '<=50K' '<=50K' '<=50K' '<=50K' '<=50K' '<=50K'\n",
      " '<=50K' '<=50K' '<=50K' '<=50K' '<=50K' '<=50K' '<=50K' '<=50K' '<=50K'\n",
      " '<=50K' '<=50K' '<=50K' '>50K' '<=50K' '<=50K' '<=50K' '<=50K' '<=50K'\n",
      " '<=50K' '<=50K' '<=50K' '<=50K' '<=50K' '<=50K' '>50K' '>50K' '>50K'\n",
      " '<=50K' '<=50K' '>50K' '<=50K' '<=50K' '<=50K' '<=50K' '<=50K' '<=50K'\n",
      " '<=50K' '<=50K' '<=50K' '>50K' '>50K' '<=50K' '>50K' '<=50K' '<=50K'\n",
      " '<=50K' '<=50K' '<=50K' '<=50K' '>50K' '<=50K' '<=50K' '>50K' '>50K'\n",
      " '<=50K' '<=50K' '>50K' '>50K' '<=50K' '<=50K' '<=50K' '<=50K' '<=50K'\n",
      " '<=50K' '<=50K' '<=50K' '<=50K' '>50K' '>50K' '<=50K' '>50K' '<=50K'\n",
      " '<=50K' '<=50K' '<=50K' '<=50K' '>50K' '<=50K' '<=50K' '<=50K' '<=50K'\n",
      " '<=50K' '<=50K' '<=50K' '<=50K' '<=50K' '<=50K' '>50K' '<=50K' '<=50K'\n",
      " '>50K' '<=50K' '<=50K' '<=50K' '<=50K' '<=50K' '<=50K' '<=50K' '<=50K'\n",
      " '<=50K' '>50K' '<=50K' '<=50K' '<=50K' '<=50K' '>50K' '<=50K' '<=50K'\n",
      " '<=50K' '<=50K' '>50K' '<=50K' '<=50K' '<=50K' '<=50K' '<=50K' '<=50K'\n",
      " '<=50K' '<=50K' '<=50K' '<=50K' '<=50K' '<=50K' '<=50K' '>50K' '<=50K'\n",
      " '<=50K' '<=50K' '>50K' '<=50K' '<=50K' '<=50K' '<=50K' '<=50K' '>50K'\n",
      " '<=50K' '<=50K' '<=50K' '<=50K' '<=50K' '>50K' '<=50K' '<=50K' '<=50K'\n",
      " '>50K' '<=50K' '<=50K' '<=50K' '<=50K' '<=50K' '<=50K' '<=50K' '<=50K'\n",
      " '<=50K' '<=50K' '>50K' '>50K' '<=50K' '>50K' '<=50K' '<=50K' '>50K'\n",
      " '<=50K' '<=50K' '>50K' '<=50K' '<=50K' '>50K' '>50K' '<=50K' '<=50K'\n",
      " '<=50K' '>50K' '<=50K' '<=50K' '<=50K' '>50K' '<=50K' '<=50K' '>50K'\n",
      " '<=50K' '>50K' '<=50K' '<=50K' '<=50K' '<=50K' '<=50K' '<=50K' '<=50K'\n",
      " '<=50K' '<=50K' '<=50K' '<=50K' '<=50K' '<=50K' '<=50K' '<=50K' '<=50K'\n",
      " '<=50K' '>50K' '>50K' '<=50K' '<=50K' '>50K' '<=50K' '>50K' '<=50K'\n",
      " '<=50K' '<=50K' '>50K' '<=50K' '<=50K' '<=50K' '<=50K' '<=50K' '<=50K'\n",
      " '>50K' '<=50K' '<=50K' '<=50K' '<=50K' '<=50K' '<=50K' '<=50K' '<=50K'\n",
      " '<=50K' '<=50K' '<=50K' '>50K' '>50K' '<=50K' '<=50K' '<=50K' '<=50K'\n",
      " '<=50K' '<=50K' '>50K' '>50K' '>50K' '<=50K' '<=50K' '>50K' '<=50K'\n",
      " '<=50K' '<=50K' '<=50K' '<=50K' '<=50K' '<=50K' '<=50K' '<=50K' '>50K'\n",
      " '<=50K' '<=50K' '<=50K' '<=50K' '<=50K' '<=50K' '<=50K' '<=50K' '<=50K'\n",
      " '<=50K' '<=50K' '>50K' '<=50K' '<=50K' '<=50K' '<=50K' '<=50K' '<=50K'\n",
      " '<=50K' '<=50K' '<=50K' '<=50K' '<=50K' '<=50K' '<=50K' '<=50K' '<=50K'\n",
      " '>50K' '>50K' '<=50K' '<=50K' '<=50K' '<=50K' '>50K' '>50K' '>50K'\n",
      " '<=50K' '<=50K' '<=50K' '<=50K' '<=50K' '<=50K' '<=50K' '<=50K' '<=50K'\n",
      " '<=50K' '>50K' '<=50K' '<=50K' '>50K' '<=50K' '>50K' '<=50K' '<=50K'\n",
      " '<=50K' '<=50K' '<=50K' '<=50K' '>50K' '<=50K' '<=50K' '<=50K' '<=50K'\n",
      " '<=50K' '<=50K' '>50K' '<=50K' '<=50K' '<=50K' '>50K' '>50K' '<=50K'\n",
      " '<=50K' '<=50K' '<=50K' '<=50K' '<=50K' '<=50K' '<=50K' '<=50K' '<=50K'\n",
      " '<=50K' '<=50K' '<=50K' '<=50K' '<=50K' '>50K' '>50K' '<=50K' '<=50K'\n",
      " '<=50K' '<=50K' '>50K' '<=50K' '<=50K' '>50K' '<=50K' '<=50K' '<=50K'\n",
      " '<=50K' '>50K' '<=50K' '<=50K' '<=50K' '<=50K' '>50K' '<=50K' '<=50K'\n",
      " '<=50K' '<=50K' '<=50K' '<=50K' '<=50K' '<=50K' '<=50K' '<=50K' '<=50K'\n",
      " '<=50K' '<=50K' '>50K' '<=50K' '>50K' '<=50K' '>50K' '>50K' '<=50K'\n",
      " '<=50K' '<=50K' '<=50K' '<=50K' '<=50K' '>50K' '<=50K' '<=50K' '<=50K'\n",
      " '<=50K' '>50K' '<=50K' '>50K' '>50K' '<=50K' '<=50K' '<=50K' '<=50K'\n",
      " '<=50K' '<=50K' '<=50K' '>50K' '<=50K' '<=50K' '<=50K' '<=50K' '<=50K'\n",
      " '<=50K' '<=50K' '<=50K' '>50K' '<=50K' '<=50K' '<=50K' '<=50K' '<=50K'\n",
      " '<=50K' '<=50K' '<=50K' '<=50K' '<=50K' '>50K' '<=50K' '<=50K' '>50K'\n",
      " '<=50K' '<=50K' '>50K' '<=50K' '<=50K' '<=50K' '<=50K' '<=50K' '<=50K'\n",
      " '>50K' '>50K' '<=50K' '<=50K' '<=50K' '<=50K' '<=50K' '<=50K' '<=50K'\n",
      " '<=50K' '<=50K' '<=50K' '<=50K' '<=50K' '<=50K' '<=50K' '<=50K' '<=50K'\n",
      " '<=50K' '<=50K' '>50K' '<=50K' '<=50K' '>50K' '<=50K' '<=50K' '<=50K'\n",
      " '>50K' '<=50K' '<=50K' '<=50K' '<=50K' '>50K' '>50K' '<=50K' '<=50K'\n",
      " '<=50K' '<=50K' '<=50K' '<=50K' '<=50K' '<=50K' '>50K' '>50K' '<=50K'\n",
      " '<=50K' '<=50K' '<=50K' '<=50K' '<=50K' '<=50K' '<=50K' '<=50K' '>50K'\n",
      " '<=50K' '<=50K' '>50K' '>50K' '<=50K' '>50K' '>50K' '>50K' '<=50K'\n",
      " '<=50K' '>50K' '<=50K' '<=50K' '<=50K' '<=50K' '<=50K' '<=50K' '>50K'\n",
      " '<=50K' '>50K' '>50K' '<=50K' '<=50K' '>50K' '<=50K' '<=50K' '<=50K'\n",
      " '<=50K' '>50K' '<=50K' '<=50K' '<=50K' '<=50K' '<=50K' '<=50K' '>50K'\n",
      " '<=50K' '<=50K' '<=50K' '<=50K' '>50K' '<=50K' '>50K' '>50K' '<=50K'\n",
      " '<=50K' '<=50K' '<=50K' '<=50K' '<=50K' '<=50K' '<=50K' '<=50K' '<=50K'\n",
      " '<=50K' '<=50K' '<=50K' '<=50K' '<=50K' '<=50K' '<=50K' '>50K' '<=50K'\n",
      " '<=50K' '<=50K' '<=50K' '<=50K' '<=50K' '<=50K' '<=50K' '<=50K' '<=50K'\n",
      " '<=50K' '<=50K' '<=50K' '<=50K' '>50K' '<=50K' '>50K' '<=50K' '<=50K'\n",
      " '<=50K' '>50K' '>50K' '>50K' '<=50K' '<=50K' '<=50K' '<=50K' '>50K'\n",
      " '<=50K' '<=50K' '<=50K' '<=50K' '>50K' '<=50K' '<=50K' '<=50K' '<=50K'\n",
      " '<=50K' '>50K' '<=50K' '>50K' '<=50K' '<=50K' '<=50K' '<=50K' '<=50K'\n",
      " '>50K' '<=50K' '>50K' '<=50K' '<=50K' '>50K' '<=50K' '<=50K' '>50K'\n",
      " '<=50K' '<=50K' '<=50K' '>50K' '>50K' '<=50K' '<=50K' '<=50K' '>50K'\n",
      " '<=50K' '>50K' '>50K' '<=50K' '>50K' '<=50K' '>50K' '<=50K' '<=50K'\n",
      " '>50K' '<=50K' '<=50K' '>50K' '<=50K' '<=50K' '<=50K' '<=50K' '<=50K'\n",
      " '<=50K' '>50K' '<=50K' '>50K' '<=50K' '<=50K' '>50K' '<=50K' '>50K'\n",
      " '<=50K' '<=50K' '<=50K' '<=50K' '<=50K' '<=50K' '<=50K' '<=50K' '<=50K'\n",
      " '<=50K' '<=50K' '<=50K' '>50K' '<=50K' '<=50K' '<=50K' '<=50K' '<=50K'\n",
      " '<=50K' '>50K' '<=50K' '<=50K' '<=50K' '>50K' '>50K' '<=50K' '<=50K'\n",
      " '<=50K' '<=50K' '<=50K' '<=50K' '>50K' '<=50K' '<=50K' '<=50K' '>50K'\n",
      " '<=50K' '<=50K' '<=50K' '<=50K' '>50K' '<=50K' '<=50K' '<=50K' '<=50K'\n",
      " '<=50K' '<=50K' '<=50K' '<=50K' '<=50K' '<=50K' '<=50K' '>50K' '>50K'\n",
      " '<=50K' '>50K' '>50K' '<=50K' '<=50K' '<=50K' '<=50K' '<=50K' '<=50K'\n",
      " '<=50K' '<=50K' '>50K' '<=50K' '<=50K' '<=50K' '>50K' '<=50K' '<=50K'\n",
      " '<=50K' '<=50K' '>50K' '<=50K' '>50K' '<=50K' '<=50K' '<=50K' '<=50K'\n",
      " '>50K' '<=50K' '<=50K' '<=50K' '<=50K' '<=50K' '<=50K' '>50K' '>50K'\n",
      " '>50K' '<=50K' '<=50K' '<=50K' '<=50K' '>50K' '>50K' '<=50K' '<=50K'\n",
      " '<=50K' '<=50K' '<=50K' '<=50K' '<=50K' '<=50K' '<=50K' '<=50K' '<=50K'\n",
      " '<=50K' '<=50K' '<=50K' '>50K' '<=50K' '<=50K' '>50K' '>50K' '<=50K'\n",
      " '<=50K' '>50K' '<=50K' '>50K' '<=50K' '<=50K' '<=50K' '<=50K' '<=50K'\n",
      " '<=50K' '<=50K' '<=50K' '<=50K' '<=50K' '<=50K' '<=50K' '<=50K' '<=50K'\n",
      " '<=50K' '<=50K' '<=50K' '>50K' '>50K' '<=50K' '<=50K' '<=50K' '<=50K'\n",
      " '>50K' '<=50K' '<=50K' '>50K' '<=50K' '<=50K' '<=50K' '<=50K' '<=50K'\n",
      " '<=50K' '<=50K' '<=50K' '<=50K' '>50K' '<=50K' '<=50K' '>50K' '>50K'\n",
      " '<=50K' '<=50K' '<=50K' '>50K' '<=50K' '>50K' '<=50K' '<=50K' '>50K'\n",
      " '<=50K' '<=50K' '<=50K' '<=50K' '<=50K' '<=50K' '<=50K' '<=50K' '<=50K'\n",
      " '<=50K' '<=50K' '<=50K' '<=50K' '<=50K' '<=50K' '<=50K' '<=50K' '>50K'\n",
      " '<=50K' '<=50K' '<=50K' '<=50K' '<=50K' '<=50K' '>50K' '<=50K' '<=50K'\n",
      " '>50K' '<=50K' '<=50K' '<=50K' '>50K' '<=50K' '<=50K' '<=50K' '<=50K'\n",
      " '<=50K' '<=50K' '>50K' '<=50K' '<=50K' '<=50K' '<=50K' '<=50K' '<=50K'\n",
      " '>50K' '<=50K' '<=50K' '<=50K' '<=50K' '<=50K' '<=50K' '<=50K' '<=50K'\n",
      " '<=50K' '<=50K' '<=50K' '<=50K' '>50K' '<=50K' '<=50K' '>50K' '<=50K'\n",
      " '>50K' '<=50K' '<=50K' '<=50K' '<=50K' '<=50K' '<=50K' '<=50K' '>50K'\n",
      " '>50K']\n"
     ]
    }
   ],
   "source": [
    "predictions = knn.predict(processed_blind_X)\n",
    "\n",
    "predicted_labels = le.inverse_transform(predictions)\n",
    "print(predicted_labels)"
   ]
  },
  {
   "cell_type": "code",
   "execution_count": 58,
   "id": "68ac356e",
   "metadata": {},
   "outputs": [],
   "source": [
    "income_test_predicted = blind_data\n",
    "income_test_predicted['target'] = predicted_labels"
   ]
  },
  {
   "cell_type": "code",
   "execution_count": 59,
   "id": "1a59409b",
   "metadata": {},
   "outputs": [],
   "source": [
    "# Specify a filename\n",
    "filename = \"income.test.predicted\"\n",
    "\n",
    "# Overwrite the file with the dataframe\n",
    "income_test_predicted.to_csv(filename, mode='w', header=False, index=False, sep=',')\n"
   ]
  },
  {
   "cell_type": "code",
   "execution_count": 60,
   "id": "3a706a75",
   "metadata": {},
   "outputs": [],
   "source": [
    "# Open the file in read mode and read its content\n",
    "with open('income.test.predicted', 'r') as file:\n",
    "    content = file.read()\n",
    "\n",
    "# Replace all occurrences of 'A' with 'B'\n",
    "content_modified = content.replace(',', ', ')\n",
    "\n",
    "# Write the modified content back to the file\n",
    "with open('income.test.predicted', 'w') as file:\n",
    "    file.write(content_modified)\n"
   ]
  },
  {
   "cell_type": "code",
   "execution_count": 61,
   "id": "6ccf771e",
   "metadata": {
    "scrolled": true
   },
   "outputs": [
    {
     "name": "stdout",
     "output_type": "stream",
     "text": [
      "Your file has passed the formatting test! :)\r\n",
      "Your positive rate is 21.4%.\r\n",
      "Your positive rate seems reasonable.\r\n",
      "This does not guarantee that your prediction accuracy will be good though.\r\n"
     ]
    }
   ],
   "source": [
    " !cat income.test.predicted | python3 validate.py"
   ]
  },
  {
   "cell_type": "code",
   "execution_count": 62,
   "id": "73886ae9",
   "metadata": {
    "scrolled": true
   },
   "outputs": [
    {
     "name": "stdout",
     "output_type": "stream",
     "text": [
      "Your file has passed the formatting test! :)\r\n",
      "Your positive rate is 49.9%.\r\n",
      "ERROR: Your positive rate seems too high (should be similar to train and dev).\r\n",
      "PLEASE DOUBLE CHECK YOUR BINARIZATION AND kNN CODE.\r\n"
     ]
    }
   ],
   "source": [
    " !cat income.test.blind | python3 random_output.py | python3 validate.py"
   ]
  },
  {
   "cell_type": "markdown",
   "id": "c0bf0a96",
   "metadata": {},
   "source": [
    "# Part 4"
   ]
  },
  {
   "cell_type": "code",
   "execution_count": 63,
   "id": "ad644fda",
   "metadata": {},
   "outputs": [],
   "source": [
    "first_person = processed_dev_X[0].reshape(1, -1)\n",
    "\n",
    "distances, indices = knn.kneighbors(first_person, n_neighbors=3)\n",
    "\n",
    "closest_neighbors_data = processed_train_X[indices[0]]"
   ]
  },
  {
   "cell_type": "code",
   "execution_count": 64,
   "id": "0b0c080a",
   "metadata": {},
   "outputs": [],
   "source": [
    "# first_person"
   ]
  },
  {
   "cell_type": "code",
   "execution_count": 65,
   "id": "8900fcf1",
   "metadata": {},
   "outputs": [
    {
     "name": "stdout",
     "output_type": "stream",
     "text": [
      "Indices of the three closest individuals: [[4872 4787 2591]]\n",
      "Distances to the three closest individuals: [[0.33441929 1.41527469 1.41674697]]\n"
     ]
    }
   ],
   "source": [
    "print(\"Indices of the three closest individuals:\", indices)\n",
    "print(\"Distances to the three closest individuals:\", distances)"
   ]
  },
  {
   "cell_type": "code",
   "execution_count": 66,
   "id": "3fea74ab",
   "metadata": {},
   "outputs": [
    {
     "name": "stdout",
     "output_type": "stream",
     "text": [
      "Euclidean Distances:\n",
      "Neighbor 1: 0.33\n",
      "Neighbor 2: 1.42\n",
      "Neighbor 3: 1.42\n"
     ]
    }
   ],
   "source": [
    "euclidean_distances = np.linalg.norm(processed_train_X[indices[0]] - first_person, axis=1)\n",
    "print(\"Euclidean Distances:\")\n",
    "for i, distance in enumerate(euclidean_distances):\n",
    "    print(f\"Neighbor {i+1}: {distance:.2f}\")"
   ]
  },
  {
   "cell_type": "code",
   "execution_count": 67,
   "id": "a5538e6d",
   "metadata": {},
   "outputs": [
    {
     "name": "stdout",
     "output_type": "stream",
     "text": [
      "\n",
      "Manhattan Distances:\n",
      "Neighbor 1: 0.39\n",
      "Neighbor 2: 2.05\n",
      "Neighbor 3: 2.10\n"
     ]
    }
   ],
   "source": [
    "manhattan_distances = np.sum(np.abs(processed_train_X[indices[0]] - first_person), axis=1)\n",
    "print(\"\\nManhattan Distances:\")\n",
    "for i, distance in enumerate(manhattan_distances):\n",
    "    print(f\"Neighbor {i+1}: {distance:.2f}\")"
   ]
  },
  {
   "cell_type": "code",
   "execution_count": 68,
   "id": "eb933906",
   "metadata": {
    "scrolled": true
   },
   "outputs": [
    {
     "data": {
      "text/plain": [
       "numpy.ndarray"
      ]
     },
     "execution_count": 68,
     "metadata": {},
     "output_type": "execute_result"
    }
   ],
   "source": [
    "type(processed_train_X)"
   ]
  },
  {
   "cell_type": "code",
   "execution_count": 69,
   "id": "30e41b95",
   "metadata": {
    "scrolled": true
   },
   "outputs": [
    {
     "data": {
      "text/plain": [
       "(5000, 92)"
      ]
     },
     "execution_count": 69,
     "metadata": {},
     "output_type": "execute_result"
    }
   ],
   "source": [
    "processed_train_X.shape"
   ]
  },
  {
   "cell_type": "code",
   "execution_count": 70,
   "id": "2ad621d8",
   "metadata": {},
   "outputs": [
    {
     "data": {
      "text/plain": [
       "(92,)"
      ]
     },
     "execution_count": 70,
     "metadata": {},
     "output_type": "execute_result"
    }
   ],
   "source": [
    "processed_dev_X[0].shape"
   ]
  },
  {
   "cell_type": "code",
   "execution_count": 71,
   "id": "5cf858ee",
   "metadata": {
    "scrolled": false
   },
   "outputs": [],
   "source": [
    "first_person_1 = processed_dev_X[0].reshape(1, -1)\n",
    "distance_list = []\n",
    "for train in processed_train_X:\n",
    "    euclidean_distance = np.linalg.norm(train - first_person_1,axis = 1)\n",
    "#     print(euclidean_distance)\n",
    "    distance_list.append(euclidean_distance)"
   ]
  },
  {
   "cell_type": "code",
   "execution_count": 72,
   "id": "da2b04c8",
   "metadata": {
    "scrolled": false
   },
   "outputs": [
    {
     "name": "stdout",
     "output_type": "stream",
     "text": [
      "[2.10837715 2.83675734 2.83874116 ... 2.61888242 2.45299161 2.90564341]\n"
     ]
    }
   ],
   "source": [
    "combined_array = np.concatenate(distance_list)\n",
    "\n",
    "print(combined_array)"
   ]
  },
  {
   "cell_type": "code",
   "execution_count": 73,
   "id": "f31f40bc",
   "metadata": {},
   "outputs": [],
   "source": [
    "index_distances = []\n",
    "for index, distance in enumerate(combined_array): \n",
    "    index_distance = index,distance\n",
    "    index_distances.append(index_distance)"
   ]
  },
  {
   "cell_type": "code",
   "execution_count": 74,
   "id": "50bb195a",
   "metadata": {},
   "outputs": [
    {
     "data": {
      "text/plain": [
       "[(0, 2.1083771507240128),\n",
       " (1, 2.8367573410237354),\n",
       " (2, 2.8387411576101567),\n",
       " (3, 3.1980210413280283),\n",
       " (4, 2.8387411576101567),\n",
       " (5, 3.789759949978551),\n",
       " (6, 2.4569859347695644),\n",
       " (7, 3.1870883048353815),\n",
       " (8, 2.0042873588962395),\n",
       " (9, 2.925447506510059),\n",
       " (10, 2.8599474731301515),\n",
       " (11, 2.541063976192029),\n",
       " (12, 3.183907253095547),\n",
       " (13, 3.1766057033149226),\n",
       " (14, 2.8882335883709715),\n",
       " (15, 2.8525892442331107),\n",
       " (16, 2.45910394490596),\n",
       " (17, 3.1627523519052323),\n",
       " (18, 2.466875212743556),\n",
       " (19, 2.452226491920896),\n",
       " (20, 3.187088304835381),\n",
       " (21, 2.0251508888301335),\n",
       " (22, 2.9185312403104353),\n",
       " (23, 2.9218531853896024),\n",
       " (24, 2.454062363943692),\n",
       " (25, 2.895462543462942),\n",
       " (26, 3.2356680395557786),\n",
       " (27, 2.4516142290736904),\n",
       " (28, 1.4762450843486454),\n",
       " (29, 2.9617421286435497),\n",
       " (30, 3.164990966342758),\n",
       " (31, 2.9056434078558206),\n",
       " (32, 2.9451671469743004),\n",
       " (33, 2.452991605577007),\n",
       " (34, 2.479674476041832),\n",
       " (35, 2.0145598427224374),\n",
       " (36, 2.8882335883709715),\n",
       " (37, 2.029408817747532),\n",
       " (38, 2.463421846736481),\n",
       " (39, 3.1640421833577226),\n",
       " (40, 2.454062363943692),\n",
       " (41, 2.862485301161304),\n",
       " (42, 3.211021064459793),\n",
       " (43, 3.1775325951516757),\n",
       " (44, 2.015047036560024),\n",
       " (45, 2.845472437619339),\n",
       " (46, 2.452226491920896),\n",
       " (47, 2.830399784141298),\n",
       " (48, 2.8434966705182836),\n",
       " (49, 2.0039356766321337),\n",
       " (50, 2.4858196935947583),\n",
       " (51, 2.044333521973247),\n",
       " (52, 2.452991605577007),\n",
       " (53, 2.450868313238122),\n",
       " (54, 2.8683337638386517),\n",
       " (55, 2.4613921589031382),\n",
       " (56, 2.454062363943692),\n",
       " (57, 2.9287880788954834),\n",
       " (58, 3.187088304835381),\n",
       " (59, 2.11008633277591),\n",
       " (60, 2.893735908048308),\n",
       " (61, 2.6698339302727248),\n",
       " (62, 3.202125844848231),\n",
       " (63, 2.007281139990006),\n",
       " (64, 3.2813898671521287),\n",
       " (65, 2.481437458977853),\n",
       " (66, 2.9395417243812334),\n",
       " (67, 2.45910394490596),\n",
       " (68, 2.830399784141298),\n",
       " (69, 2.4800943475546755),\n",
       " (70, 3.1640421833577226),\n",
       " (71, 3.1764269776746965),\n",
       " (72, 2.8599474731301515),\n",
       " (73, 2.830797549751424),\n",
       " (74, 2.4735602174904567),\n",
       " (75, 3.1715061658319144),\n",
       " (76, 3.519023089399326),\n",
       " (77, 2.0251508888301335),\n",
       " (78, 2.8640126492474947),\n",
       " (79, 2.4699122337856343),\n",
       " (80, 2.4600381033358074),\n",
       " (81, 3.4665786904426765),\n",
       " (82, 2.8525892442331107),\n",
       " (83, 2.5945613143200355),\n",
       " (84, 2.0234775915833074),\n",
       " (85, 3.164398010313915),\n",
       " (86, 3.237212303398011),\n",
       " (87, 2.8640126492474947),\n",
       " (88, 2.477350479103518),\n",
       " (89, 2.8599474731301515),\n",
       " (90, 2.5182198635337256),\n",
       " (91, 2.45910394490596),\n",
       " (92, 2.8462670504591587),\n",
       " (93, 2.895431488349461),\n",
       " (94, 3.173517248686178),\n",
       " (95, 2.4613921589031382),\n",
       " (96, 2.4700680400607347),\n",
       " (97, 2.8323880535909804),\n",
       " (98, 2.4749659907811763),\n",
       " (99, 2.898919887052898),\n",
       " (100, 3.2315265144535),\n",
       " (101, 2.0279241111373616),\n",
       " (102, 3.1905014573047197),\n",
       " (103, 2.0500166962855824),\n",
       " (104, 3.247931893568232),\n",
       " (105, 2.452226491920896),\n",
       " (106, 2.930784482528081),\n",
       " (107, 2.0390026637595313),\n",
       " (108, 3.215809584085447),\n",
       " (109, 2.465447058129987),\n",
       " (110, 2.0145598427224374),\n",
       " (111, 3.469075749133687),\n",
       " (112, 2.45910394490596),\n",
       " (113, 2.4691523633124266),\n",
       " (114, 2.5069596946968957),\n",
       " (115, 2.954562467437352),\n",
       " (116, 2.8323880535909804),\n",
       " (117, 2.4904956243787404),\n",
       " (118, 3.2021258448482315),\n",
       " (119, 3.255936612749186),\n",
       " (120, 3.1639235654795117),\n",
       " (121, 2.911965572817003),\n",
       " (122, 3.4986898245473466),\n",
       " (123, 2.5652964918100065),\n",
       " (124, 3.2006988094633115),\n",
       " (125, 2.506268639123554),\n",
       " (126, 3.4811636200488243),\n",
       " (127, 2.911013671937276),\n",
       " (128, 2.4509532802488385),\n",
       " (129, 2.524620269570885),\n",
       " (130, 3.358200122966288),\n",
       " (131, 2.878518209187208),\n",
       " (132, 2.831460368260743),\n",
       " (133, 3.211021064459793),\n",
       " (134, 3.465712471926531),\n",
       " (135, 3.7719144450499944),\n",
       " (136, 2.4516142290736904),\n",
       " (137, 3.4743649387634408),\n",
       " (138, 2.4557626907927164),\n",
       " (139, 2.830399784141298),\n",
       " (140, 2.9828619338048554),\n",
       " (141, 3.254431925515396),\n",
       " (142, 2.8729096620403847),\n",
       " (143, 2.4954636003710426),\n",
       " (144, 2.056049265162877),\n",
       " (145, 3.2264213688223937),\n",
       " (146, 3.2315265144535),\n",
       " (147, 3.1782441886251407),\n",
       " (148, 3.0001259326655214),\n",
       " (149, 2.067531153937035),\n",
       " (150, 2.8321650328213264),\n",
       " (151, 2.830797549751424),\n",
       " (152, 3.1888692699555676),\n",
       " (153, 2.833580345598053),\n",
       " (154, 1.4324061818716218),\n",
       " (155, 2.4700680400607347),\n",
       " (156, 2.8323880535909804),\n",
       " (157, 2.8561393283273957),\n",
       " (158, 2.63309395268406),\n",
       " (159, 3.4867099675206696),\n",
       " (160, 2.5182198635337256),\n",
       " (161, 2.454062363943692),\n",
       " (162, 2.893735908048308),\n",
       " (163, 2.8409878084406994),\n",
       " (164, 2.839086923563513),\n",
       " (165, 2.466875212743556),\n",
       " (166, 2.888153611062925),\n",
       " (167, 3.206459494747163),\n",
       " (168, 2.0093367770324857),\n",
       " (169, 3.164990966342758),\n",
       " (170, 2.8442377440185282),\n",
       " (171, 3.2492471318453937),\n",
       " (172, 2.468711271669702),\n",
       " (173, 2.8581063557574695),\n",
       " (174, 2.85805919828547),\n",
       " (175, 3.32295638772626),\n",
       " (176, 2.830399784141298),\n",
       " (177, 2.4613921589031382),\n",
       " (178, 3.476416734979937),\n",
       " (179, 2.8599474731301515),\n",
       " (180, 3.166887679561683),\n",
       " (181, 2.45910394490596),\n",
       " (182, 2.010385364248939),\n",
       " (183, 2.882820888713779),\n",
       " (184, 2.481437458977853),\n",
       " (185, 3.3956438735531695),\n",
       " (186, 2.5141812990368697),\n",
       " (187, 3.1764269776746965),\n",
       " (188, 3.2492471318453937),\n",
       " (189, 2.5182198635337256),\n",
       " (190, 3.306940744613129),\n",
       " (191, 2.882820888713779),\n",
       " (192, 3.1757634224306703),\n",
       " (193, 3.4687775831254477),\n",
       " (194, 2.5107752560431784),\n",
       " (195, 3.4811636200488243),\n",
       " (196, 2.873773749856895),\n",
       " (197, 2.481437458977853),\n",
       " (198, 2.5093999459173677),\n",
       " (199, 2.893735908048308),\n",
       " (200, 2.007281139990006),\n",
       " (201, 2.8761637580017823),\n",
       " (202, 2.5182198635337256),\n",
       " (203, 2.8367573410237354),\n",
       " (204, 2.031465743771685),\n",
       " (205, 3.1901800476758857),\n",
       " (206, 2.4723422498780905),\n",
       " (207, 2.8323880535909804),\n",
       " (208, 2.452991605577007),\n",
       " (209, 3.4986898245473466),\n",
       " (210, 2.553003055358134),\n",
       " (211, 2.8960596114431874),\n",
       " (212, 3.164990966342758),\n",
       " (213, 3.237212303398011),\n",
       " (214, 3.1969616860211367),\n",
       " (215, 3.1622776601683795),\n",
       " (216, 2.4685442985227675),\n",
       " (217, 3.0069983629411494),\n",
       " (218, 2.481437458977853),\n",
       " (219, 2.506268639123554),\n",
       " (220, 3.2284489846968807),\n",
       " (221, 2.506268639123554),\n",
       " (222, 2.847470425018467),\n",
       " (223, 2.8492981854399577),\n",
       " (224, 2.4904956243787404),\n",
       " (225, 2.961781829891472),\n",
       " (226, 2.681174079192035),\n",
       " (227, 2.878340999748771),\n",
       " (228, 3.1905014573047197),\n",
       " (229, 2.830797549751424),\n",
       " (230, 2.4517673091195062),\n",
       " (231, 3.1757634224306703),\n",
       " (232, 3.211021064459793),\n",
       " (233, 2.886999721345674),\n",
       " (234, 3.4771861891956397),\n",
       " (235, 2.8587821985974595),\n",
       " (236, 2.9056434078558206),\n",
       " (237, 2.029408817747532),\n",
       " (238, 2.470975659875584),\n",
       " (239, 2.8317424400469395),\n",
       " (240, 2.882820888713779),\n",
       " (241, 2.833580345598053),\n",
       " (242, 2.0151425258557034),\n",
       " (243, 3.1870883048353815),\n",
       " (244, 2.498509914994243),\n",
       " (245, 2.9038511128188724),\n",
       " (246, 3.2021258448482315),\n",
       " (247, 2.578859179703504),\n",
       " (248, 2.8533751918530674),\n",
       " (249, 2.888153611062925),\n",
       " (250, 2.923522526899378),\n",
       " (251, 1.420270332377348),\n",
       " (252, 2.466875212743556),\n",
       " (253, 3.215809584085447),\n",
       " (254, 2.830797549751424),\n",
       " (255, 2.8759294433726375),\n",
       " (256, 3.1718646913578845),\n",
       " (257, 2.021255381006706),\n",
       " (258, 2.4588098139720467),\n",
       " (259, 2.506268639123554),\n",
       " (260, 3.1831545842323203),\n",
       " (261, 3.173517248686178),\n",
       " (262, 2.9617421286435497),\n",
       " (263, 2.888153611062925),\n",
       " (264, 2.603658356161356),\n",
       " (265, 3.2260633827780816),\n",
       " (266, 3.194145966459525),\n",
       " (267, 3.2249960809228866),\n",
       " (268, 2.457119102431809),\n",
       " (269, 2.452226491920896),\n",
       " (270, 2.6891523138718227),\n",
       " (271, 2.4986391492267175),\n",
       " (272, 2.830797549751424),\n",
       " (273, 2.477350479103518),\n",
       " (274, 2.8935563353226024),\n",
       " (275, 3.164175999834446),\n",
       " (276, 2.069150185814029),\n",
       " (277, 2.830797549751424),\n",
       " (278, 2.021255381006706),\n",
       " (279, 2.4613921589031382),\n",
       " (280, 3.2545701062718395),\n",
       " (281, 2.8599474731301515),\n",
       " (282, 2.847054743361564),\n",
       " (283, 3.5498060829065925),\n",
       " (284, 2.8302671831819315),\n",
       " (285, 2.877739128457309),\n",
       " (286, 2.45910394490596),\n",
       " (287, 2.4639828992321937),\n",
       " (288, 2.4508673725097507),\n",
       " (289, 3.20272088160649),\n",
       " (290, 2.5127110430304627),\n",
       " (291, 2.029408817747532),\n",
       " (292, 2.506268639123554),\n",
       " (293, 2.029408817747532),\n",
       " (294, 2.4686963287613533),\n",
       " (295, 1.4308012482004813),\n",
       " (296, 3.211021064459793),\n",
       " (297, 2.455438367167781),\n",
       " (298, 2.459350483688939),\n",
       " (299, 2.877739128457309),\n",
       " (300, 2.871319012039564),\n",
       " (301, 2.4954636003710426),\n",
       " (302, 2.0007504690695637),\n",
       " (303, 2.450102536524151),\n",
       " (304, 2.904947836759089),\n",
       " (305, 2.4954636003710426),\n",
       " (306, 2.847470425018467),\n",
       " (307, 3.1681910112137017),\n",
       " (308, 2.5779476290907652),\n",
       " (309, 3.0164021980034716),\n",
       " (310, 2.457472972390195),\n",
       " (311, 2.8302671831819315),\n",
       " (312, 3.1640421833577226),\n",
       " (313, 2.996553895845614),\n",
       " (314, 2.8492981854399577),\n",
       " (315, 2.893735908048308),\n",
       " (316, 2.845076723682471),\n",
       " (317, 2.45910394490596),\n",
       " (318, 2.8409878084406994),\n",
       " (319, 3.1623963397826214),\n",
       " (320, 2.5121019637754562),\n",
       " (321, 3.1640421833577226),\n",
       " (322, 2.8409878084406994),\n",
       " (323, 3.2449795728905504),\n",
       " (324, 2.9761859809165983),\n",
       " (325, 3.243119578533602),\n",
       " (326, 2.8434966705182836),\n",
       " (327, 2.5007218810265566),\n",
       " (328, 2.830399784141298),\n",
       " (329, 3.1831545842323203),\n",
       " (330, 2.4517673091195062),\n",
       " (331, 3.1639235654795117),\n",
       " (332, 2.083721013234319),\n",
       " (333, 2.011763458225657),\n",
       " (334, 2.911965572817003),\n",
       " (335, 3.1980210413280283),\n",
       " (336, 2.007281139990006),\n",
       " (337, 3.2001840280664453),\n",
       " (338, 3.1980210413280283),\n",
       " (339, 2.485680391577661),\n",
       " (340, 2.056049265162877),\n",
       " (341, 2.483414556818067),\n",
       " (342, 3.5130373298750777),\n",
       " (343, 3.1809589984077813),\n",
       " (344, 2.4686963287613533),\n",
       " (345, 2.481437458977853),\n",
       " (346, 2.8434966705182836),\n",
       " (347, 2.8367573410237354),\n",
       " (348, 3.23271350034342),\n",
       " (349, 3.1782441886251407),\n",
       " (350, 3.1782441886251407),\n",
       " (351, 2.56180446616133),\n",
       " (352, 2.98196271416997),\n",
       " (353, 2.477350479103518),\n",
       " (354, 2.8640126492474947),\n",
       " (355, 3.1858652096630187),\n",
       " (356, 2.5286270784710787),\n",
       " (357, 2.4639828992321937),\n",
       " (358, 3.266024903080807),\n",
       " (359, 2.5007218810265566),\n",
       " (360, 2.88712391005518),\n",
       " (361, 3.5005156657619745),\n",
       " (362, 2.4735602174904567),\n",
       " (363, 3.1913217869876673),\n",
       " (364, 3.1782441886251407),\n",
       " (365, 2.091341078238594),\n",
       " (366, 2.452991605577007),\n",
       " (367, 2.4904956243787404),\n",
       " (368, 2.8496256796204866),\n",
       " (369, 2.5182198635337256),\n",
       " (370, 2.4517673091195062),\n",
       " (371, 3.202125844848231),\n",
       " (372, 2.917324198964046),\n",
       " (373, 3.465712471926531),\n",
       " (374, 2.835036910436141),\n",
       " (375, 2.545494745088164),\n",
       " (376, 3.5380537871360813),\n",
       " (377, 2.457976670513034),\n",
       " (378, 2.833580345598053),\n",
       " (379, 2.8599474731301515),\n",
       " (380, 2.8367573410237354),\n",
       " (381, 2.541063976192029),\n",
       " (382, 2.830399784141298),\n",
       " (383, 2.8409878084406994),\n",
       " (384, 2.034026891738266),\n",
       " (385, 2.833580345598053),\n",
       " (386, 2.9310965794074155),\n",
       " (387, 2.4782554318476797),\n",
       " (388, 2.8367573410237354),\n",
       " (389, 2.45910394490596),\n",
       " (390, 2.451939998843429),\n",
       " (391, 2.5532641738371034),\n",
       " (392, 2.8599474731301515),\n",
       " (393, 2.8434966705182836),\n",
       " (394, 2.874473547388498),\n",
       " (395, 3.247609682015272),\n",
       " (396, 2.9138949149333158),\n",
       " (397, 2.8729096620403847),\n",
       " (398, 3.2256696188726335),\n",
       " (399, 2.847470425018467),\n",
       " (400, 2.5026607130006053),\n",
       " (401, 2.5450411504521573),\n",
       " (402, 3.1658209182019283),\n",
       " (403, 3.2497003174327532),\n",
       " (404, 2.479338527636329),\n",
       " (405, 2.8302671831819315),\n",
       " (406, 2.0323609023558618),\n",
       " (407, 3.1718156566152036),\n",
       " (408, 2.0027887901791104),\n",
       " (409, 3.188851194524643),\n",
       " (410, 3.20272088160649),\n",
       " (411, 2.523568114053883),\n",
       " (412, 2.83650237110517),\n",
       " (413, 2.911965572817003),\n",
       " (414, 3.220824041379499),\n",
       " (415, 2.4954636003710426),\n",
       " (416, 2.011763458225657),\n",
       " (417, 3.482901305846695),\n",
       " (418, 2.882820888713779),\n",
       " (419, 2.888153611062925),\n",
       " (420, 3.012904141275717),\n",
       " (421, 2.452226491920896),\n",
       " (422, 3.164398010313915),\n",
       " (423, 3.1681910112137017),\n",
       " (424, 2.8312114361310226),\n",
       " (425, 2.850763593867062),\n",
       " (426, 2.470068040060735),\n",
       " (427, 2.8665181409822305),\n",
       " (428, 3.2497003174327532),\n",
       " (429, 2.0251508888301335),\n",
       " (430, 2.1323658141341797),\n",
       " (431, 2.455438367167781),\n",
       " (432, 2.8409748236264663),\n",
       " (433, 2.8683337638386517),\n",
       " (434, 2.0042873588962395),\n",
       " (435, 3.0283721691394048),\n",
       " (436, 2.45910394490596),\n",
       " (437, 2.4517673091195062),\n",
       " (438, 3.7418133442220745),\n",
       " (439, 2.877739128457309),\n",
       " (440, 2.8409878084406994),\n",
       " (441, 2.8323880535909804),\n",
       " (442, 2.5233001437566545),\n",
       " (443, 2.457119102431809),\n",
       " (444, 3.493107323734001),\n",
       " (445, 2.8640126492474947),\n",
       " (446, 2.854315948633206),\n",
       " (447, 2.4517673091195062),\n",
       " (448, 2.8640126492474947),\n",
       " (449, 3.1905014573047197),\n",
       " (450, 3.182271683580433),\n",
       " (451, 2.949073101868251),\n",
       " (452, 2.466875212743556),\n",
       " (453, 2.909654142467166),\n",
       " (454, 2.8683337638386517),\n",
       " (455, 2.830399784141298),\n",
       " (456, 3.173517248686178),\n",
       " (457, 2.9253387707760474),\n",
       " (458, 3.1757634224306703),\n",
       " (459, 3.1809589984077813),\n",
       " (460, 3.2315265144535),\n",
       " (461, 2.466875212743556),\n",
       " (462, 2.8567833542188334),\n",
       " (463, 2.8599474731301515),\n",
       " (464, 2.5017145251540116),\n",
       " (465, 2.025450249277539),\n",
       " (466, 2.452226491920896),\n",
       " (467, 3.5130373298750777),\n",
       " (468, 2.450102536524151),\n",
       " (469, 3.4656041793887233),\n",
       " (470, 2.8694608273401134),\n",
       " (471, 2.829620270925562),\n",
       " (472, 2.888153611062925),\n",
       " (473, 2.457119102431809),\n",
       " (474, 3.0069983629411494),\n",
       " (475, 2.4613921589031382),\n",
       " (476, 3.2409112611984665),\n",
       " (477, 2.050016696285582),\n",
       " (478, 3.1784349469980415),\n",
       " (479, 2.8525892442331107),\n",
       " (480, 2.504190520559018),\n",
       " (481, 2.4735602174904567),\n",
       " (482, 2.481437458977853),\n",
       " (483, 2.5007218810265566),\n",
       " (484, 2.481437458977853),\n",
       " (485, 3.2582241719696263),\n",
       " (486, 2.4573249390682794),\n",
       " (487, 2.572604109261179),\n",
       " (488, 2.8587821985974595),\n",
       " (489, 2.481437458977853),\n",
       " (490, 2.524620269570885),\n",
       " (491, 2.8729096620403847),\n",
       " (492, 2.452991605577007),\n",
       " (493, 2.882820888713779),\n",
       " (494, 2.8305493738722025),\n",
       " (495, 2.477350479103518),\n",
       " (496, 2.5744472778489564),\n",
       " (497, 3.1905014573047197),\n",
       " (498, 2.452991605577007),\n",
       " (499, 2.8434966705182836),\n",
       " (500, 3.167556005663978),\n",
       " (501, 2.457119102431809),\n",
       " (502, 3.194145966459525),\n",
       " (503, 3.173517248686178),\n",
       " (504, 2.888153611062925),\n",
       " (505, 2.5182198635337256),\n",
       " (506, 2.506268639123554),\n",
       " (507, 2.916077125688385),\n",
       " (508, 2.8496899671908125),\n",
       " (509, 2.8581265228934414),\n",
       " (510, 2.4676208350092823),\n",
       " (511, 2.0195121184191516),\n",
       " (512, 2.449642955589757),\n",
       " (513, 2.936597245494554),\n",
       " (514, 3.5014722910391023),\n",
       " (515, 3.533258753275179),\n",
       " (516, 2.4967589870949514),\n",
       " (517, 3.164398010313915),\n",
       " (518, 3.2035290188534606),\n",
       " (519, 2.4679594393613717),\n",
       " (520, 2.487395003374847),\n",
       " (521, 2.4735602174904567),\n",
       " (522, 3.4673364541279956),\n",
       " (523, 2.4691523633124266),\n",
       " (524, 2.4858196935947583),\n",
       " (525, 2.4941058561911738),\n",
       " (526, 3.3026750019261812),\n",
       " (527, 2.538259957848287),\n",
       " (528, 2.0498289624073793),\n",
       " (529, 2.830797549751424),\n",
       " (530, 2.4759828023281445),\n",
       " (531, 2.88316136836702),\n",
       " (532, 2.4858196935947583),\n",
       " (533, 2.9056434078558206),\n",
       " (534, 2.4639828992321937),\n",
       " (535, 2.479338527636329),\n",
       " (536, 2.833580345598053),\n",
       " (537, 2.8561393283273957),\n",
       " (538, 2.6234054371271767),\n",
       " (539, 2.044333521973247),\n",
       " (540, 3.1757634224306703),\n",
       " (541, 3.16808773294798),\n",
       " (542, 3.211477064631994),\n",
       " (543, 3.49321749323595),\n",
       " (544, 2.4679594393613717),\n",
       " (545, 2.458129354337737),\n",
       " (546, 2.452226491920896),\n",
       " (547, 2.830399784141298),\n",
       " (548, 2.8581063557574695),\n",
       " (549, 2.872909662040385),\n",
       " (550, 2.8325625505445395),\n",
       " (551, 3.261246451929113),\n",
       " (552, 3.164990966342758),\n",
       " (553, 2.5007218810265566),\n",
       " (554, 2.831460368260743),\n",
       " (555, 2.888153611062925),\n",
       " (556, 2.452991605577007),\n",
       " (557, 3.0164021980034716),\n",
       " (558, 3.2260633827780816),\n",
       " (559, 2.9897740481549158),\n",
       " (560, 2.477350479103518),\n",
       " (561, 2.854315948633206),\n",
       " (562, 2.8525892442331107),\n",
       " (563, 2.862849029376827),\n",
       " (564, 2.8387411576101567),\n",
       " (565, 2.4700680400607347),\n",
       " (566, 3.220824041379499),\n",
       " (567, 3.0353885418823006),\n",
       " (568, 3.1782441886251407),\n",
       " (569, 2.457976670513034),\n",
       " (570, 3.170750553215225),\n",
       " (571, 2.8921758447623667),\n",
       " (572, 2.4639828992321937),\n",
       " (573, 3.511555061920464),\n",
       " (574, 2.452991605577007),\n",
       " (575, 2.954562467437352),\n",
       " (576, 2.481437458977853),\n",
       " (577, 3.1905014573047197),\n",
       " (578, 3.2814204968863714),\n",
       " (579, 2.463982899232194),\n",
       " (580, 3.1870883048353815),\n",
       " (581, 2.9199421636718537),\n",
       " (582, 2.481437458977853),\n",
       " (583, 3.188627896292679),\n",
       " (584, 2.830399784141298),\n",
       " (585, 3.166887679561683),\n",
       " (586, 3.1639235654795117),\n",
       " (587, 2.4920948083195578),\n",
       " (588, 2.9519132519019404),\n",
       " (589, 2.056049265162877),\n",
       " (590, 3.173517248686178),\n",
       " (591, 2.455438367167781),\n",
       " (592, 2.846480056543246),\n",
       " (593, 3.4867652434338714),\n",
       " (594, 3.282059785650168),\n",
       " (595, 2.022578501401836),\n",
       " (596, 2.8492981854399577),\n",
       " (597, 2.470975659875584),\n",
       " (598, 2.4904956243787404),\n",
       " (599, 2.454081026558366),\n",
       " (600, 2.0016881597378444),\n",
       " (601, 2.830399784141298),\n",
       " (602, 3.27558229540787),\n",
       " (603, 2.8561393283273957),\n",
       " (604, 3.247609682015272),\n",
       " (605, 3.1757634224306703),\n",
       " (606, 2.0666325660982037),\n",
       " (607, 3.2672752812221026),\n",
       " (608, 2.466875212743556),\n",
       " (609, 3.4777198482438227),\n",
       " (610, 2.0033508848124093),\n",
       " (611, 3.5144177326048642),\n",
       " (612, 2.5256057644185863),\n",
       " (613, 3.164990966342758),\n",
       " (614, 2.877739128457309),\n",
       " (615, 2.9746909660336383),\n",
       " (616, 2.452991605577007),\n",
       " (617, 2.466875212743556),\n",
       " (618, 3.183907253095547),\n",
       " (619, 3.49321749323595),\n",
       " (620, 2.0068398466379365),\n",
       " (621, 2.050016696285582),\n",
       " (622, 2.5801900756377605),\n",
       " (623, 2.477350479103518),\n",
       " (624, 2.893735908048308),\n",
       " (625, 2.835036910436141),\n",
       " (626, 2.8746488066046814),\n",
       " (627, 2.4639828992321937),\n",
       " (628, 2.847470425018467),\n",
       " (629, 2.0027887901791104),\n",
       " (630, 2.4834507641359003),\n",
       " (631, 3.1782441886251407),\n",
       " (632, 2.511642338516351),\n",
       " (633, 2.4634673263765956),\n",
       " (634, 3.182860585427614),\n",
       " (635, 2.8561393283273953),\n",
       " (636, 3.2389479117877515),\n",
       " (637, 2.830797549751424),\n",
       " (638, 2.8525892442331107),\n",
       " (639, 3.208017818922294),\n",
       " (640, 3.1809474013762284),\n",
       " (641, 2.8616024964009625),\n",
       " (642, 2.8690961122104333),\n",
       " (643, 2.845253793656602),\n",
       " (644, 2.900636282921913),\n",
       " (645, 2.8409878084406994),\n",
       " (646, 2.0033508848124093),\n",
       " (647, 2.8409878084406994),\n",
       " (648, 2.470975659875584),\n",
       " (649, 3.1718156566152036),\n",
       " (650, 3.1665696979697104),\n",
       " (651, 2.4904956243787404),\n",
       " (652, 2.9395417243812334),\n",
       " (653, 2.452991605577007),\n",
       " (654, 2.0055976880034794),\n",
       " (655, 3.220824041379499),\n",
       " (656, 2.5025183664932844),\n",
       " (657, 3.264564416031577),\n",
       " (658, 2.4904956243787404),\n",
       " (659, 3.211021064459793),\n",
       " (660, 2.8359125379067773),\n",
       " (661, 2.452226491920896),\n",
       " (662, 2.830797549751424),\n",
       " (663, 3.228735031969718),\n",
       " (664, 2.942342744552305),\n",
       " (665, 2.8578886783580613),\n",
       " (666, 2.027252770097085),\n",
       " (667, 2.069150185814029),\n",
       " (668, 2.9262334361503246),\n",
       " (669, 3.1941545304233308),\n",
       " (670, 2.8289578362856664),\n",
       " (671, 2.531301038932659),\n",
       " (672, 2.9746909660336383),\n",
       " (673, 3.221466475777628),\n",
       " (674, 3.1789496239634842),\n",
       " (675, 2.4700680400607347),\n",
       " (676, 2.504190520559018),\n",
       " (677, 2.452226491920896),\n",
       " (678, 2.452991605577007),\n",
       " (679, 3.1855197421692028),\n",
       " (680, 2.8640126492474947),\n",
       " (681, 2.8599474731301515),\n",
       " (682, 2.4941058561911738),\n",
       " (683, 2.848128553893876),\n",
       " (684, 2.4838678891252317),\n",
       " (685, 2.5182198635337256),\n",
       " (686, 2.4613921589031382),\n",
       " (687, 2.877739128457309),\n",
       " (688, 2.56883056402794),\n",
       " (689, 2.466875212743556),\n",
       " (690, 2.5121019637754562),\n",
       " (691, 2.8323880535909804),\n",
       " (692, 2.5182198635337256),\n",
       " (693, 2.979376385341172),\n",
       " (694, 2.9746909660336383),\n",
       " (695, 2.466875212743556),\n",
       " (696, 2.457119102431809),\n",
       " (697, 2.8671718976599556),\n",
       " (698, 2.466875212743556),\n",
       " (699, 2.830797549751424),\n",
       " (700, 3.166887679561683),\n",
       " (701, 2.011973914272565),\n",
       " (702, 3.194145966459525),\n",
       " (703, 2.88316136836702),\n",
       " (704, 2.4517673091195062),\n",
       " (705, 2.877739128457309),\n",
       " (706, 2.831460368260743),\n",
       " (707, 2.8462670504591587),\n",
       " (708, 2.8462670504591587),\n",
       " (709, 2.481437458977853),\n",
       " (710, 2.8462670504591587),\n",
       " (711, 2.8394375193688957),\n",
       " (712, 2.9677437221774308),\n",
       " (713, 2.830797549751424),\n",
       " (714, 2.452991605577007),\n",
       " (715, 2.5450411504521573),\n",
       " (716, 2.4735602174904567),\n",
       " (717, 3.2719814742715587),\n",
       " (718, 2.9056434078558206),\n",
       " (719, 2.9510751688901524),\n",
       " (720, 2.0027887901791104),\n",
       " (721, 2.888153611062925),\n",
       " (722, 2.553003055358134),\n",
       " (723, 2.835036910436141),\n",
       " (724, 3.200259089229704),\n",
       " (725, 2.0262578097807737),\n",
       " (726, 3.6006542813725284),\n",
       " (727, 2.8367573410237354),\n",
       " (728, 2.457119102431809),\n",
       " (729, 2.93276716195484),\n",
       " (730, 3.1658209182019283),\n",
       " (731, 2.034026891738266),\n",
       " (732, 2.5501972086415265),\n",
       " (733, 2.011763458225657),\n",
       " (734, 2.8638782751932936),\n",
       " (735, 2.5463035347900105),\n",
       " (736, 2.8409878084406994),\n",
       " (737, 3.1925156423818923),\n",
       " (738, 2.0145598427224374),\n",
       " (739, 2.4846232591642607),\n",
       " (740, 2.455438367167781),\n",
       " (741, 2.8363095304053854),\n",
       " (742, 2.899566338213623),\n",
       " (743, 2.041785302343749),\n",
       " (744, 2.4954636003710426),\n",
       " (745, 2.5069596946968957),\n",
       " (746, 2.5074549168934883),\n",
       " (747, 3.2260633827780816),\n",
       " (748, 2.8416651785620313),\n",
       " (749, 3.1656213881536477),\n",
       " (750, 2.8405012224920045),\n",
       " (751, 2.9505699056243833),\n",
       " (752, 2.925447506510059),\n",
       " (753, 2.4613921589031382),\n",
       " (754, 2.887370525550484),\n",
       " (755, 2.8349949518091444),\n",
       " (756, 3.220824041379499),\n",
       " (757, 2.0067441180526013),\n",
       " (758, 3.466037329239064),\n",
       " (759, 2.893735908048308),\n",
       " (760, 2.65828917651239),\n",
       " (761, 2.9483316452417667),\n",
       " (762, 2.9205979573499907),\n",
       " (763, 2.882820888713779),\n",
       " (764, 3.1665696979697104),\n",
       " (765, 2.8367573410237354),\n",
       " (766, 2.477350479103518),\n",
       " (767, 2.4613921589031382),\n",
       " (768, 2.4740115014098003),\n",
       " (769, 3.225030396702602),\n",
       " (770, 3.4811636200488243),\n",
       " (771, 2.836971061118005),\n",
       " (772, 2.457119102431809),\n",
       " (773, 2.893735908048308),\n",
       " (774, 3.188980979972668),\n",
       " (775, 2.454062363943692),\n",
       " (776, 2.490341096140068),\n",
       " (777, 2.481437458977853),\n",
       " (778, 3.4867652434338714),\n",
       " (779, 2.8434966705182836),\n",
       " (780, 2.45910394490596),\n",
       " (781, 3.2476444687817865),\n",
       " (782, 2.545494745088164),\n",
       " (783, 3.4788573860246763),\n",
       " (784, 2.833580345598053),\n",
       " (785, 2.461869086590939),\n",
       " (786, 2.8363095304053854),\n",
       " (787, 2.830399784141298),\n",
       " (788, 2.830399784141298),\n",
       " (789, 2.4504424931006916),\n",
       " (790, 3.4695005812847612),\n",
       " (791, 3.2874766615937445),\n",
       " (792, 2.8492981854399577),\n",
       " (793, 2.029408817747532),\n",
       " (794, 2.452991605577007),\n",
       " (795, 2.5100286747780234),\n",
       " (796, 3.1854766097686467),\n",
       " (797, 2.5272833780627897),\n",
       " (798, 3.173517248686178),\n",
       " (799, 2.4954636003710426),\n",
       " (800, 3.27558229540787),\n",
       " (801, 2.4837012583684945),\n",
       " (802, 2.517015930018441),\n",
       " (803, 2.831460368260743),\n",
       " (804, 2.476383069543005),\n",
       " (805, 2.873773749856895),\n",
       " (806, 2.524620269570885),\n",
       " (807, 2.4613921589031382),\n",
       " (808, 2.874205771127937),\n",
       " (809, 3.211021064459793),\n",
       " (810, 3.581595521159898),\n",
       " (811, 2.8462670504591587),\n",
       " (812, 2.8306229439923962),\n",
       " (813, 2.899566338213623),\n",
       " (814, 2.8587821985974595),\n",
       " (815, 2.8302671831819315),\n",
       " (816, 3.2409112611984665),\n",
       " (817, 3.471837996035336),\n",
       " (818, 2.830797549751424),\n",
       " (819, 2.830399784141298),\n",
       " (820, 3.1681910112137017),\n",
       " (821, 2.4517673091195062),\n",
       " (822, 2.454062363943692),\n",
       " (823, 2.4723422498780905),\n",
       " (824, 2.0033508848124093),\n",
       " (825, 2.8416651785620313),\n",
       " (826, 2.476383069543005),\n",
       " (827, 2.8284271247461903),\n",
       " (828, 2.0093367770324857),\n",
       " (829, 2.911965572817003),\n",
       " (830, 2.487038901567153),\n",
       " (831, 2.8367573410237354),\n",
       " (832, 2.9080932122442094),\n",
       " (833, 2.915028345514841),\n",
       " (834, 1.4619389167521433),\n",
       " (835, 3.215809584085447),\n",
       " (836, 2.457119102431809),\n",
       " (837, 2.4660104547177837),\n",
       " (838, 2.877739128457309),\n",
       " (839, 3.1681910112137017),\n",
       " (840, 2.8462670504591587),\n",
       " (841, 2.455438367167781),\n",
       " (842, 2.4509532802488385),\n",
       " (843, 2.4906579722637203),\n",
       " (844, 2.452991605577007),\n",
       " (845, 2.8492981854399577),\n",
       " (846, 3.1658209182019283),\n",
       " (847, 2.459350483688939),\n",
       " (848, 3.1781231006057555),\n",
       " (849, 2.4700680400607347),\n",
       " (850, 3.5176281079056904),\n",
       " (851, 2.8462670504591587),\n",
       " (852, 2.457976670513034),\n",
       " (853, 2.452991605577007),\n",
       " (854, 3.4665786904426765),\n",
       " (855, 2.8561393283273957),\n",
       " (856, 2.954562467437352),\n",
       " (857, 2.872909662040385),\n",
       " (858, 3.483857832391332),\n",
       " (859, 2.9022203305039262),\n",
       " (860, 3.490635292909037),\n",
       " (861, 3.3956438735531695),\n",
       " (862, 3.5176281079056904),\n",
       " (863, 2.830797549751424),\n",
       " (864, 2.873773749856895),\n",
       " (865, 2.524620269570885),\n",
       " (866, 3.237212303398011),\n",
       " (867, 2.0177243933968505),\n",
       " (868, 2.4904956243787404),\n",
       " (869, 2.4613921589031382),\n",
       " (870, 1.4762450843486454),\n",
       " (871, 2.465447058129987),\n",
       " (872, 3.169730621338674),\n",
       " (873, 2.034026891738266),\n",
       " (874, 2.5580717417508065),\n",
       " (875, 3.1658209182019283),\n",
       " (876, 2.454062363943692),\n",
       " (877, 2.449829784395531),\n",
       " (878, 2.458587348919785),\n",
       " (879, 2.4904956243787404),\n",
       " (880, 2.851523581898108),\n",
       " (881, 3.1782441886251407),\n",
       " (882, 2.566177131198202),\n",
       " (883, 2.4639828992321937),\n",
       " (884, 2.044333521973247),\n",
       " (885, 3.1866142460739373),\n",
       " (886, 2.942342744552305),\n",
       " (887, 2.45910394490596),\n",
       " (888, 2.4613921589031382),\n",
       " (889, 2.8296946799897937),\n",
       " (890, 2.6388107081722576),\n",
       " (891, 2.9610336839330285),\n",
       " (892, 3.2021258448482315),\n",
       " (893, 3.2260633827780816),\n",
       " (894, 2.454062363943692),\n",
       " (895, 2.830797549751424),\n",
       " (896, 2.830797549751424),\n",
       " (897, 3.247931893568232),\n",
       " (898, 2.4941058561911738),\n",
       " (899, 2.454062363943692),\n",
       " (900, 2.477350479103518),\n",
       " (901, 2.4967589870949514),\n",
       " (902, 2.455028238554495),\n",
       " (903, 2.856071847417006),\n",
       " (904, 2.0055976880034794),\n",
       " (905, 2.4517673091195062),\n",
       " (906, 3.4986898245473466),\n",
       " (907, 2.8462670504591587),\n",
       " (908, 2.538259957848287),\n",
       " (909, 3.264564416031577),\n",
       " (910, 2.4954636003710426),\n",
       " (911, 2.891150874305667),\n",
       " (912, 3.164398010313915),\n",
       " (913, 2.023292107870058),\n",
       " (914, 2.835036910436141),\n",
       " (915, 2.454062363943692),\n",
       " (916, 2.8735728710924056),\n",
       " (917, 2.8549603858451738),\n",
       " (918, 2.0055976880034794),\n",
       " (919, 2.46041847471414),\n",
       " (920, 2.8416651785620313),\n",
       " (921, 2.4714545962559886),\n",
       " (922, 2.017039215032413),\n",
       " (923, 2.9056434078558206),\n",
       " (924, 3.1782441886251407),\n",
       " (925, 2.4639828992321937),\n",
       " (926, 2.454062363943692),\n",
       " (927, 2.477350479103518),\n",
       " (928, 2.8387411576101567),\n",
       " (929, 2.4904956243787404),\n",
       " (930, 2.8302671831819315),\n",
       " (931, 2.4720906046498783),\n",
       " (932, 2.0177243933968505),\n",
       " (933, 3.4710812150713237),\n",
       " (934, 2.911965572817003),\n",
       " (935, 2.466875212743556),\n",
       " (936, 2.053515583719837),\n",
       " (937, 3.4898853203312483),\n",
       " (938, 3.486765243433872),\n",
       " (939, 2.8405012224920045),\n",
       " (940, 2.8561393283273957),\n",
       " (941, 2.449642955589757),\n",
       " (942, 2.0417570719410385),\n",
       " (943, 2.5039674834613312),\n",
       " (944, 2.837896945048332),\n",
       " (945, 3.2814204968863714),\n",
       " (946, 2.9101771714235674),\n",
       " (947, 3.187088304835381),\n",
       " (948, 2.4587437456852337),\n",
       " (949, 2.486872483281392),\n",
       " (950, 2.4715388555478377),\n",
       " (951, 3.2035290188534606),\n",
       " (952, 2.4517673091195062),\n",
       " (953, 2.4967589870949514),\n",
       " (954, 2.8343886464925867),\n",
       " (955, 2.4618606578552833),\n",
       " (956, 2.452226491920896),\n",
       " (957, 2.8503613345837104),\n",
       " (958, 2.449642955589757),\n",
       " (959, 2.8683337638386517),\n",
       " (960, 2.930784482528081),\n",
       " (961, 2.4517673091195062),\n",
       " (962, 2.835036910436141),\n",
       " (963, 2.0498289624073793),\n",
       " (964, 2.4639828992321937),\n",
       " (965, 2.455438367167781),\n",
       " (966, 3.1809589984077813),\n",
       " (967, 1.6001725385478085),\n",
       " (968, 2.719979775437253),\n",
       " (969, 2.833580345598053),\n",
       " (970, 2.8334939434998208),\n",
       " (971, 3.468310478454831),\n",
       " (972, 2.452226491920896),\n",
       " (973, 2.9138949149333158),\n",
       " (974, 2.454081026558366),\n",
       " (975, 2.830797549751424),\n",
       " (976, 3.2141902483983786),\n",
       " (977, 2.8317424400469395),\n",
       " (978, 2.0177243933968505),\n",
       " (979, 2.034026891738266),\n",
       " (980, 2.4517673091195062),\n",
       " (981, 3.187088304835381),\n",
       " (982, 2.5286270784710787),\n",
       " (983, 2.5490422130762345),\n",
       " (984, 2.5069596946968957),\n",
       " (985, 2.835036910436141),\n",
       " (986, 2.452991605577007),\n",
       " (987, 2.4740115014098003),\n",
       " (988, 2.056049265162877),\n",
       " (989, 3.267110271113716),\n",
       " (990, 2.487723627617871),\n",
       " (991, 3.543671390493977),\n",
       " (992, 2.1237241067597865),\n",
       " (993, 2.044333521973247),\n",
       " (994, 2.4677293904517987),\n",
       " (995, 2.4517673091195062),\n",
       " (996, 2.8492981854399577),\n",
       " (997, 2.4904956243787404),\n",
       " (998, 2.4904956243787404),\n",
       " (999, 2.010106544889161),\n",
       " ...]"
      ]
     },
     "execution_count": 74,
     "metadata": {},
     "output_type": "execute_result"
    }
   ],
   "source": [
    "index_distances"
   ]
  },
  {
   "cell_type": "code",
   "execution_count": 75,
   "id": "83a3f057",
   "metadata": {},
   "outputs": [],
   "source": [
    "# type(index_distances)"
   ]
  },
  {
   "cell_type": "code",
   "execution_count": 76,
   "id": "25d5e2fc",
   "metadata": {},
   "outputs": [],
   "source": [
    "index = index_distances"
   ]
  },
  {
   "cell_type": "code",
   "execution_count": 77,
   "id": "e4df0be9",
   "metadata": {},
   "outputs": [],
   "source": [
    "for i in index_distances: \n",
    "    indexes , distance = index_distance\n",
    "#     print(indexes)"
   ]
  },
  {
   "cell_type": "code",
   "execution_count": 78,
   "id": "09ba4439",
   "metadata": {},
   "outputs": [
    {
     "name": "stdout",
     "output_type": "stream",
     "text": [
      "[4787 4872 2591]\n",
      "[1.41527469 0.33441929 1.41674697]\n"
     ]
    }
   ],
   "source": [
    "result_scratch = np.argpartition(combined_array, 3) \n",
    "print(result_scratch[:3])\n",
    "print(combined_array[result_scratch[:3]])"
   ]
  },
  {
   "cell_type": "code",
   "execution_count": 79,
   "id": "3526d34d",
   "metadata": {},
   "outputs": [],
   "source": [
    "first_person_1_man = processed_dev_X[0].reshape(1, -1)\n",
    "distance_list_man = []\n",
    "for train in processed_train_X:\n",
    "    manhattan_distance = np.sum(np.abs(train - first_person_1_man),axis = 1)\n",
    "#     print(euclidean_distance)\n",
    "    distance_list_man.append(manhattan_distance)"
   ]
  },
  {
   "cell_type": "code",
   "execution_count": 80,
   "id": "04a1c969",
   "metadata": {},
   "outputs": [
    {
     "name": "stdout",
     "output_type": "stream",
     "text": [
      "[4.79004753 8.29382164 8.3212189  ... 7.25468269 6.1842326  8.75957506]\n"
     ]
    }
   ],
   "source": [
    "combined_manhattan = np.concatenate(distance_list_man)\n",
    "\n",
    "print(combined_manhattan)"
   ]
  },
  {
   "cell_type": "code",
   "execution_count": 81,
   "id": "c9d1a0c5",
   "metadata": {},
   "outputs": [
    {
     "name": "stdout",
     "output_type": "stream",
     "text": [
      "[2.10204082 0.38999161 2.05479452]\n"
     ]
    }
   ],
   "source": [
    "result_manhattan = np.argpartition(combined_manhattan, 3) \n",
    "# result_manhattan\n",
    "print(combined_manhattan[result_manhattan[:3]])"
   ]
  },
  {
   "cell_type": "code",
   "execution_count": 82,
   "id": "62905259",
   "metadata": {},
   "outputs": [
    {
     "name": "stdout",
     "output_type": "stream",
     "text": [
      "[4872 4787 4142]\n",
      "[0.38999161 2.05479452 2.10204082]\n"
     ]
    }
   ],
   "source": [
    "result_manhattan = np.argsort(combined_manhattan) \n",
    "print(result_manhattan[:3])\n",
    "print(combined_manhattan[result_manhattan[:3]])"
   ]
  },
  {
   "cell_type": "code",
   "execution_count": 83,
   "id": "3eca4268",
   "metadata": {},
   "outputs": [
    {
     "data": {
      "text/plain": [
       "array([15.11294381, 15.11350294, 15.28962818])"
      ]
     },
     "execution_count": 83,
     "metadata": {},
     "output_type": "execute_result"
    }
   ],
   "source": [
    "combined_manhattan[result_manhattan[-3:]]"
   ]
  },
  {
   "cell_type": "code",
   "execution_count": 84,
   "id": "5ae9d78c",
   "metadata": {},
   "outputs": [],
   "source": [
    "def get_indices_of_k_smallest(arr, k):\n",
    "    idx = np.argsort(arr.ravel(), k)\n",
    "    return tuple(np.array(np.unravel_index(idx, arr.shape))[:, range(min(k, 0), max(k, 0))])"
   ]
  },
  {
   "cell_type": "code",
   "execution_count": null,
   "id": "a621ac87",
   "metadata": {},
   "outputs": [],
   "source": []
  },
  {
   "cell_type": "code",
   "execution_count": null,
   "id": "a44878ff",
   "metadata": {},
   "outputs": [],
   "source": []
  },
  {
   "cell_type": "code",
   "execution_count": null,
   "id": "fb30de28",
   "metadata": {},
   "outputs": [],
   "source": []
  },
  {
   "cell_type": "code",
   "execution_count": null,
   "id": "3a8113e9",
   "metadata": {},
   "outputs": [],
   "source": []
  }
 ],
 "metadata": {
  "kernelspec": {
   "display_name": "Python 3 (ipykernel)",
   "language": "python",
   "name": "python3"
  },
  "language_info": {
   "codemirror_mode": {
    "name": "ipython",
    "version": 3
   },
   "file_extension": ".py",
   "mimetype": "text/x-python",
   "name": "python",
   "nbconvert_exporter": "python",
   "pygments_lexer": "ipython3",
   "version": "3.9.12"
  }
 },
 "nbformat": 4,
 "nbformat_minor": 5
}
